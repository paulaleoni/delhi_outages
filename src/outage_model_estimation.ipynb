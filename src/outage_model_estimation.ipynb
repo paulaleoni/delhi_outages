{
 "cells": [
  {
   "cell_type": "code",
   "execution_count": 2,
   "metadata": {},
   "outputs": [
    {
     "name": "stderr",
     "output_type": "stream",
     "text": [
      "[NbConvertApp] Converting notebook outage_bunching.ipynb to script\n",
      "[NbConvertApp] Writing 11801 bytes to outage_bunching.py\n"
     ]
    }
   ],
   "source": [
    "import tools\n",
    "from pathlib import Path\n",
    "import matplotlib.pyplot as plt\n",
    "import pandas as pd\n",
    "from sympy import symbols\n",
    "from scipy.optimize import fsolve\n",
    "import seaborn as sns\n",
    "import numpy as np\n",
    "from lmfit import Parameters, fit_report, minimize\n",
    "!jupyter nbconvert --to script outage_bunching.ipynb \n",
    "# converts notebook to py file needed to import results from bunching\n",
    "from outage_bunching import bunching, z_lower60, z_lower120, missing60, missing120\n",
    "#import outage_bunching\n",
    "\n",
    "np.random.seed(111)"
   ]
  },
  {
   "cell_type": "code",
   "execution_count": 3,
   "metadata": {},
   "outputs": [
    {
     "name": "stderr",
     "output_type": "stream",
     "text": [
      "C:\\Users\\paula\\anaconda3\\envs\\dehli\\lib\\site-packages\\IPython\\core\\interactiveshell.py:3437: DtypeWarning: Columns (5) have mixed types.Specify dtype option on import or set low_memory=False.\n",
      "  exec(code_obj, self.user_global_ns, self.user_ns)\n"
     ]
    }
   ],
   "source": [
    "wd = Path.cwd()\n",
    "data = pd.read_csv(wd.parent/'data'/'data_transformed'/'outage_bunch.csv')\n",
    "\n",
    "#data.head()"
   ]
  },
  {
   "cell_type": "markdown",
   "metadata": {},
   "source": [
    "$\\pi$: revenue loss from outage\n",
    "\n",
    "Calculation: \\\n",
    "$r =$ unserved kWh / duration of outage \\\n",
    "$\\pi = r * tariff$\n",
    "\n",
    "unserved kWh is a function of the number of customers affected and the duration of the outage"
   ]
  },
  {
   "cell_type": "code",
   "execution_count": 4,
   "metadata": {},
   "outputs": [
    {
     "name": "stdout",
     "output_type": "stream",
     "text": [
      "median pi: 44.44444444444444\n",
      "0.8333333333333334 1.6666666666666667\n"
     ]
    },
    {
     "data": {
      "text/plain": [
       "<matplotlib.legend.Legend at 0x2479adc6970>"
      ]
     },
     "execution_count": 4,
     "metadata": {},
     "output_type": "execute_result"
    },
    {
     "data": {
      "image/png": "[encoded data removed]",
      "text/plain": [
       "<Figure size 720x288 with 2 Axes>"
      ]
     },
     "metadata": {
      "needs_background": "light"
     },
     "output_type": "display_data"
    }
   ],
   "source": [
    "## calculate pi \n",
    "\n",
    "#the tariff is a price per kwh\n",
    "tariff = 8\n",
    "\n",
    "data['r_permin'] = data.apply(lambda row: row.unservedmuduetooutage * 1e6 / row.duration_minutes, axis = 1)\n",
    "\n",
    "data['pi'] = data.r_permin * tariff\n",
    "\n",
    "pi = data.pi.median()\n",
    "\n",
    "print('median pi:', pi)\n",
    "\n",
    "\n",
    "\n",
    "# define parameters \n",
    "phi = 50/60 \n",
    "phi120 = 100/60\n",
    "print(phi, phi120)\n",
    "\n",
    "#sns.kdeplot(data.r_permin)\n",
    "\n",
    "# \n",
    "fig, ax = plt.subplots(1,2, figsize=(10,4))\n",
    "ax[0].scatter(data.hour_of_day, data.unservedmuduetooutage, label = 'unservedMU')\n",
    "ax[1].scatter(data.hour_of_day, data.r_permin, label='r_permin', color='red')\n",
    "fig.legend()\n",
    "\n",
    "#data.r_permin.describe()"
   ]
  },
  {
   "cell_type": "markdown",
   "metadata": {},
   "source": [
    "## model estimation : alpha"
   ]
  },
  {
   "cell_type": "markdown",
   "metadata": {},
   "source": [
    "non-linear least squares; focus on bunching around 60"
   ]
  },
  {
   "cell_type": "markdown",
   "metadata": {},
   "source": [
    "$ (\\frac{\\pi + \\phi}{\\pi}) (\\frac{x}{x + \\Delta x}) = \\frac{1}{\\alpha} [(\\frac{\\pi + \\phi}{\\phi})^{\\alpha / 1+\\alpha} (1+\\alpha) - (1 + \\frac{\\Delta x}{x})^{\\alpha}]$"
   ]
  },
  {
   "cell_type": "code",
   "execution_count": 6,
   "metadata": {},
   "outputs": [
    {
     "name": "stdout",
     "output_type": "stream",
     "text": [
      "49 79\n"
     ]
    }
   ],
   "source": [
    "print(z_lower60, missing60)"
   ]
  },
  {
   "cell_type": "code",
   "execution_count": 32,
   "metadata": {},
   "outputs": [],
   "source": [
    "# code source: https://lmfit.github.io/lmfit-py/fitting.html\n",
    "\n",
    "# parameters to be estimated\n",
    "pars = Parameters()\n",
    "pars.add('alpha', value = .8)\n",
    "\n",
    "alphas = {}\n",
    "# for each firm separately\n",
    "for f in data.discom.unique():\n",
    "    dt = data[(data.discom == f) & (data.pi >0)]# keep only non-negative values\n",
    "    # restrict region of x using counterfactual duration\n",
    "    dt = dt[(dt.duration_cf >= 40 ) & (dt.duration_cf <= 110)]\n",
    "    dx60 = bunching[f]['bunch60'].total_bunch()\n",
    "\n",
    "    def residual(pars,pi, data ,phi = phi, x = 60, dx = dx60):\n",
    "        vals = pars.valuesdict()\n",
    "        alpha = vals['alpha']\n",
    "        # RHS of equation\n",
    "        model = 1/alpha * (((pi + phi)/phi)**(alpha /(1+alpha)) * (1+alpha) - (1 + (dx/x))**alpha )\n",
    "        return model - data\n",
    "\n",
    "    # calculate left side of equation\n",
    "    left = dt.apply(lambda row: (row.pi + phi) / row.pi * 60/(60+dx60) , axis = 1).to_numpy()\n",
    "    fit_params = Parameters()\n",
    "    # first guess of alpha\n",
    "    fit_params.add('alpha', value = 0.5)\n",
    "    # fit model by minimizing RHS - LHS\n",
    "    out = minimize(residual, fit_params, args = (dt.pi.to_numpy(),), kws={'data': left})\n",
    "    #print(fit_report(out)) # output\n",
    "    alphas[f] = {'output':out,'value': out.params['alpha'].value, 'std':out.params['alpha'].stderr}\n",
    "\n",
    "#print(alphas)"
   ]
  },
  {
   "cell_type": "code",
   "execution_count": 33,
   "metadata": {},
   "outputs": [
    {
     "name": "stdout",
     "output_type": "stream",
     "text": [
      "---------brpl----------------------\n",
      "Parameter    Value       Stderr\n",
      "alpha      -0.82885     0.00219\n",
      "---------bypl----------------------\n",
      "Parameter    Value       Stderr\n",
      "alpha      -0.97576     0.00028\n",
      "---------tata----------------------\n",
      "Parameter    Value       Stderr\n",
      "alpha      -0.96294     0.00213\n"
     ]
    }
   ],
   "source": [
    "for f in data.discom.unique():\n",
    "    out = alphas[f]['output']\n",
    "    print(f'---------{f}----------------------')\n",
    "    print('Parameter    Value       Stderr')\n",
    "    for name, param in out.params.items():\n",
    "        print(f'{name:7s} {param.value:11.5f} {param.stderr:11.5f}')\n"
   ]
  },
  {
   "cell_type": "code",
   "execution_count": 12,
   "metadata": {},
   "outputs": [],
   "source": [
    "# create new column alpha and assign values\n",
    "data['alpha'] = 0\n",
    "for f in data.discom.unique():\n",
    "    alpha = alphas[f]['value']\n",
    "    data.loc[data.discom == f, 'alpha'] = alpha"
   ]
  },
  {
   "cell_type": "markdown",
   "metadata": {},
   "source": [
    "## calculate the $\\sigma$'s based on the counterfactual x's and alpha's"
   ]
  },
  {
   "cell_type": "markdown",
   "metadata": {},
   "source": [
    "- $x^* = \\sigma (\\pi +\\phi N)^{-1/(1+\\alpha)}$\n",
    "- for each observation (duration)\n",
    "- minimize the difference between the theoretical optimal duration $x^*$ given our parameters and the counterfactual duration\n",
    "- the optimal $\\sigma$ is the minimizer of the difference"
   ]
  },
  {
   "cell_type": "code",
   "execution_count": 17,
   "metadata": {},
   "outputs": [
    {
     "name": "stderr",
     "output_type": "stream",
     "text": [
      "C:\\Users\\paula\\anaconda3\\envs\\dehli\\lib\\site-packages\\scipy\\optimize\\minpack.py:175: RuntimeWarning: The iteration is not making good progress, as measured by the \n",
      "  improvement from the last ten iterations.\n",
      "  warnings.warn(msg, RuntimeWarning)\n",
      "c:\\Users\\paula\\OneDrive\\Documents\\400_VWL\\420 Work\\Dana\\Dehli_outages\\src\\tools.py:48: RuntimeWarning: divide by zero encountered in double_scalars\n",
      "  return sigma * ((pi + phi*N))**(-1/(1+alpha))\n"
     ]
    }
   ],
   "source": [
    "data['sigma'] = 0\n",
    "\n",
    "def get_sigma(s,x, N, pi, alpha):\n",
    "    if x < 60:\n",
    "        exp = tools.xopt(s, pi, phi=0, alpha = alpha, N=N) - x\n",
    "    elif x < 120:\n",
    "        exp = tools.xopt(s, pi, phi=50/60, alpha = alpha, N=N) - x\n",
    "    else:   \n",
    "        exp = tools.xopt(s, pi, phi=100/60, alpha = alpha, N=N) - x\n",
    "    return exp\n",
    "\n",
    "for i in data.index:\n",
    "    s = symbols('s')\n",
    "    x = data.loc[i, 'duration_cf']\n",
    "    N = data.loc[i, 'noofcustomersaffected']\n",
    "    pi = data.loc[i, 'pi']\n",
    "    alp = data.loc[i,'alpha']\n",
    "    data.loc[i,'sigma'] = fsolve(get_sigma, x0 = 10, args = (x, N, pi, alp))[0]\n"
   ]
  },
  {
   "cell_type": "code",
   "execution_count": 18,
   "metadata": {},
   "outputs": [
    {
     "data": {
      "text/plain": [
       "count    9.123000e+04\n",
       "mean     1.288230e+06\n",
       "std      2.587004e+07\n",
       "min      7.388960e-22\n",
       "25%      1.000000e+01\n",
       "50%      1.000000e+01\n",
       "75%      1.000000e+01\n",
       "max      1.014594e+09\n",
       "Name: sigma, dtype: float64"
      ]
     },
     "execution_count": 18,
     "metadata": {},
     "output_type": "execute_result"
    },
    {
     "data": {
      "image/png": "[encoded data removed]",
      "text/plain": [
       "<Figure size 432x288 with 1 Axes>"
      ]
     },
     "metadata": {
      "needs_background": "light"
     },
     "output_type": "display_data"
    }
   ],
   "source": [
    "sns.kdeplot(x = data.sigma)\n",
    "#plt.xlim(-1000,20000)\n",
    "data.sigma.describe()\n"
   ]
  },
  {
   "cell_type": "code",
   "execution_count": 19,
   "metadata": {},
   "outputs": [],
   "source": [
    "# export \n",
    "data.to_csv(wd.parent/'data'/'data_transformed'/'outage_bunch_est.csv', index=False)"
   ]
  },
  {
   "cell_type": "markdown",
   "metadata": {},
   "source": [
    "# Alternative calculation of alpha"
   ]
  },
  {
   "cell_type": "markdown",
   "metadata": {},
   "source": [
    "\n",
    "\n",
    "solve for $\\alpha$ and compare: $K(x^I) = K(x^*)$\n",
    "\n",
    "$K(x^I) = (\\pi + \\phi)^{\\alpha /1+\\alpha} (x^* + \\Delta x^*) \\pi^{1/1+\\alpha}  (1 + 1/\\alpha)$\n",
    "\n",
    "\n",
    "at $x$ around $60$: $\\phi = 50$\n",
    "\n",
    "If $x>120$: $\\phi = 100$\n",
    "\n",
    "\n",
    "I am now doing it for N=1, not sure if that's right. Also, we should double check the functions. What values of $\\pi$ and $\\phi$ should we use? For $\\pi$ we could maybe do a weighted average"
   ]
  },
  {
   "cell_type": "code",
   "execution_count": 28,
   "metadata": {},
   "outputs": [
    {
     "name": "stdout",
     "output_type": "stream",
     "text": [
      "alpha: 5.925371436624084 deltax 4.303755439887405\n",
      "alpha: 5.283274454191148 deltax 1.0355002865033742\n"
     ]
    },
    {
     "name": "stderr",
     "output_type": "stream",
     "text": [
      "c:\\Users\\paula\\OneDrive\\Documents\\400_VWL\\420 Work\\Dana\\Dehli_outages\\src\\tools.py:18: RuntimeWarning: divide by zero encountered in double_scalars\n",
      "  first = sigma / alpha\n",
      "<ipython-input-28-9f8946c7dab8>:25: RuntimeWarning: invalid value encountered in double_scalars\n",
      "  return L(a) - R(a)\n"
     ]
    },
    {
     "data": {
      "text/plain": [
       "<matplotlib.lines.Line2D at 0x22e0bfb6e80>"
      ]
     },
     "execution_count": 28,
     "metadata": {},
     "output_type": "execute_result"
    },
    {
     "data": {
      "image/png": "[encoded data removed]",
      "text/plain": [
       "<Figure size 432x288 with 1 Axes>"
      ]
     },
     "metadata": {
      "needs_background": "light"
     },
     "output_type": "display_data"
    }
   ],
   "source": [
    "alpha60 = tools.solve_alpha(60, bunch60.total_bunch(), pi, phi=50/60, phi120 = 100/60, startingvalue = 10)\n",
    "alpha120 = tools.solve_alpha(120, bunch120.total_bunch(), pi, phi=50/60, phi120 = 100/60, startingvalue=10)\n",
    "\n",
    "print('alpha:',alpha60, 'deltax', bunch60.total_bunch())\n",
    "print('alpha:',alpha120, 'deltax', bunch120.total_bunch())\n",
    "\n",
    "alpha = alpha60\n",
    "#alpha = 0.8\n",
    "\n",
    "# plot indifference as a function of alpha\n",
    "delta_x = bunch60.total_bunch()\n",
    "def sigmaI(a):\n",
    "    return (60 + delta_x)*(pi)**(1/(1+a))\n",
    "\n",
    "def  xI(a):\n",
    "    return  sigmaI(a) * (pi+50/60)**(-1/(1+a))\n",
    "\n",
    "def L(a):\n",
    "    return tools.K(xI(a), sigmaI(a), pi=pi, phi=50/60, phi120 = 100/60,alpha=a, N=1)\n",
    "    \n",
    "def R(a):\n",
    "    return pi*60 + tools.C(60, sigmaI(a), a) \n",
    "\n",
    "def solution(a):\n",
    "    return L(a) - R(a)\n",
    "\n",
    "alphas = np.linspace(0,15, 100)\n",
    "sol =  [solution(a) for a in alphas]\n",
    "plt.plot(alphas,sol)\n",
    "plt.axhline(0, linestyle = 'dashed')\n",
    "plt.axvline(alpha60, linestyle='dashed', color = 'red')"
   ]
  }
 ],
 "metadata": {
  "interpreter": {
   "hash": "751f88bc81ff633e903dce1c8aeae8029e2f9e80f01621a63afdad018a476671"
  },
  "kernelspec": {
   "display_name": "Python 3.8.10 64-bit ('dehli': conda)",
   "name": "python3"
  },
  "language_info": {
   "codemirror_mode": {
    "name": "ipython",
    "version": 3
   },
   "file_extension": ".py",
   "mimetype": "text/x-python",
   "name": "python",
   "nbconvert_exporter": "python",
   "pygments_lexer": "ipython3",
   "version": "3.8.10"
  },
  "orig_nbformat": 4
 },
 "nbformat": 4,
 "nbformat_minor": 2
}
