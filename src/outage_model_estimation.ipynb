{
 "cells": [
  {
   "cell_type": "code",
   "execution_count": 36,
   "metadata": {},
   "outputs": [
    {
     "name": "stderr",
     "output_type": "stream",
     "text": [
      "[NbConvertApp] Converting notebook outage_bunching.ipynb to script\n",
      "[NbConvertApp] Writing 8683 bytes to outage_bunching.py\n"
     ]
    }
   ],
   "source": [
    "import tools\n",
    "from pathlib import Path\n",
    "import matplotlib.pyplot as plt\n",
    "import pandas as pd\n",
    "from sympy import symbols\n",
    "from scipy.optimize import fsolve\n",
    "import seaborn as sns\n",
    "import numpy as np\n",
    "from lmfit import Parameters, fit_report, minimize\n",
    "!jupyter nbconvert --to script outage_bunching.ipynb \n",
    "# converts notebook to py file needed to import results from bunching\n",
    "from outage_bunching import bunch60, bunch120\n",
    "\n",
    "\n",
    "np.random.seed(111)"
   ]
  },
  {
   "cell_type": "code",
   "execution_count": 26,
   "metadata": {},
   "outputs": [
    {
     "name": "stdout",
     "output_type": "stream",
     "text": [
      "4.303755439887405 1.0355002865033742\n"
     ]
    }
   ],
   "source": [
    "dx60 = bunch60.total_bunch()\n",
    "dx120 = bunch120.total_bunch()\n",
    "print(dx60, dx120)"
   ]
  },
  {
   "cell_type": "code",
   "execution_count": 27,
   "metadata": {},
   "outputs": [
    {
     "name": "stderr",
     "output_type": "stream",
     "text": [
      "C:\\Users\\paula\\anaconda3\\envs\\dehli\\lib\\site-packages\\IPython\\core\\interactiveshell.py:3437: DtypeWarning: Columns (5) have mixed types.Specify dtype option on import or set low_memory=False.\n",
      "  exec(code_obj, self.user_global_ns, self.user_ns)\n"
     ]
    },
    {
     "data": {
      "text/html": [
       "<div>\n",
       "<style scoped>\n",
       "    .dataframe tbody tr th:only-of-type {\n",
       "        vertical-align: middle;\n",
       "    }\n",
       "\n",
       "    .dataframe tbody tr th {\n",
       "        vertical-align: top;\n",
       "    }\n",
       "\n",
       "    .dataframe thead th {\n",
       "        text-align: right;\n",
       "    }\n",
       "</style>\n",
       "<table border=\"1\" class=\"dataframe\">\n",
       "  <thead>\n",
       "    <tr style=\"text-align: right;\">\n",
       "      <th></th>\n",
       "      <th>division_name</th>\n",
       "      <th>id</th>\n",
       "      <th>area_affected</th>\n",
       "      <th>noofcustomersaffected</th>\n",
       "      <th>capacity</th>\n",
       "      <th>duration</th>\n",
       "      <th>unservedmuduetooutage</th>\n",
       "      <th>remarks</th>\n",
       "      <th>date</th>\n",
       "      <th>end_date</th>\n",
       "      <th>...</th>\n",
       "      <th>dairy</th>\n",
       "      <th>residential</th>\n",
       "      <th>minute_of_day</th>\n",
       "      <th>q</th>\n",
       "      <th>quarter</th>\n",
       "      <th>hourly</th>\n",
       "      <th>year</th>\n",
       "      <th>r_permin</th>\n",
       "      <th>pi</th>\n",
       "      <th>duration_cf</th>\n",
       "    </tr>\n",
       "  </thead>\n",
       "  <tbody>\n",
       "    <tr>\n",
       "      <th>0</th>\n",
       "      <td>alaknanda</td>\n",
       "      <td>1.0</td>\n",
       "      <td>part off dsidc okhla phase‐1,</td>\n",
       "      <td>312.0</td>\n",
       "      <td>other outage</td>\n",
       "      <td>0:43</td>\n",
       "      <td>0.000005</td>\n",
       "      <td>outage due to\\nfault</td>\n",
       "      <td>2019-12-02 00:00:00</td>\n",
       "      <td>2019-12-02 00:00:00</td>\n",
       "      <td>...</td>\n",
       "      <td>0.0</td>\n",
       "      <td>0.0</td>\n",
       "      <td>31.0</td>\n",
       "      <td>3.0</td>\n",
       "      <td>49898.0</td>\n",
       "      <td>16993.0</td>\n",
       "      <td>2019.0</td>\n",
       "      <td>0.116279</td>\n",
       "      <td>0.930233</td>\n",
       "      <td>43.0</td>\n",
       "    </tr>\n",
       "    <tr>\n",
       "      <th>1</th>\n",
       "      <td>alaknanda</td>\n",
       "      <td>2.0</td>\n",
       "      <td>part off indira kalyan vihar okhla phase‐1,</td>\n",
       "      <td>314.0</td>\n",
       "      <td>other outage</td>\n",
       "      <td>0:09</td>\n",
       "      <td>0.000017</td>\n",
       "      <td>outage due to\\nfault</td>\n",
       "      <td>2019-12-03 00:00:00</td>\n",
       "      <td>2019-12-03 00:00:00</td>\n",
       "      <td>...</td>\n",
       "      <td>0.0</td>\n",
       "      <td>0.0</td>\n",
       "      <td>30.0</td>\n",
       "      <td>3.0</td>\n",
       "      <td>49924.0</td>\n",
       "      <td>17003.0</td>\n",
       "      <td>2019.0</td>\n",
       "      <td>1.888889</td>\n",
       "      <td>15.111111</td>\n",
       "      <td>9.0</td>\n",
       "    </tr>\n",
       "    <tr>\n",
       "      <th>2</th>\n",
       "      <td>alaknanda</td>\n",
       "      <td>3.0</td>\n",
       "      <td>part off b‐block kalka ji,e‐block kalka ji,f‐b...</td>\n",
       "      <td>303.0</td>\n",
       "      <td>other outage</td>\n",
       "      <td>0:57</td>\n",
       "      <td>0.000633</td>\n",
       "      <td>outage due to fault</td>\n",
       "      <td>2019-12-05 00:00:00</td>\n",
       "      <td>2019-12-05 00:00:00</td>\n",
       "      <td>...</td>\n",
       "      <td>0.0</td>\n",
       "      <td>0.0</td>\n",
       "      <td>19.0</td>\n",
       "      <td>2.0</td>\n",
       "      <td>50008.0</td>\n",
       "      <td>17036.0</td>\n",
       "      <td>2019.0</td>\n",
       "      <td>11.105263</td>\n",
       "      <td>88.842105</td>\n",
       "      <td>57.0</td>\n",
       "    </tr>\n",
       "    <tr>\n",
       "      <th>3</th>\n",
       "      <td>alaknanda</td>\n",
       "      <td>4.0</td>\n",
       "      <td>part off railway yard,</td>\n",
       "      <td>302.0</td>\n",
       "      <td>other outage</td>\n",
       "      <td>0:37</td>\n",
       "      <td>0.000319</td>\n",
       "      <td>outage due to\\nfault</td>\n",
       "      <td>2019-12-06 00:00:00</td>\n",
       "      <td>2019-12-06 00:00:00</td>\n",
       "      <td>...</td>\n",
       "      <td>0.0</td>\n",
       "      <td>0.0</td>\n",
       "      <td>21.0</td>\n",
       "      <td>2.0</td>\n",
       "      <td>50072.0</td>\n",
       "      <td>17060.0</td>\n",
       "      <td>2019.0</td>\n",
       "      <td>8.621622</td>\n",
       "      <td>68.972973</td>\n",
       "      <td>37.0</td>\n",
       "    </tr>\n",
       "    <tr>\n",
       "      <th>4</th>\n",
       "      <td>alaknanda</td>\n",
       "      <td>5.0</td>\n",
       "      <td>part off cng station okhla phase‐1,a‐block okh...</td>\n",
       "      <td>140.0</td>\n",
       "      <td>other outage</td>\n",
       "      <td>0:33</td>\n",
       "      <td>0.000413</td>\n",
       "      <td>outage due to fault</td>\n",
       "      <td>2019-12-06 00:00:00</td>\n",
       "      <td>2019-12-06 00:00:00</td>\n",
       "      <td>...</td>\n",
       "      <td>0.0</td>\n",
       "      <td>0.0</td>\n",
       "      <td>30.0</td>\n",
       "      <td>3.0</td>\n",
       "      <td>50063.0</td>\n",
       "      <td>17057.0</td>\n",
       "      <td>2019.0</td>\n",
       "      <td>12.515152</td>\n",
       "      <td>100.121212</td>\n",
       "      <td>33.0</td>\n",
       "    </tr>\n",
       "  </tbody>\n",
       "</table>\n",
       "<p>5 rows × 32 columns</p>\n",
       "</div>"
      ],
      "text/plain": [
       "  division_name   id                                      area_affected  \\\n",
       "0     alaknanda  1.0                      part off dsidc okhla phase‐1,   \n",
       "1     alaknanda  2.0        part off indira kalyan vihar okhla phase‐1,   \n",
       "2     alaknanda  3.0  part off b‐block kalka ji,e‐block kalka ji,f‐b...   \n",
       "3     alaknanda  4.0                             part off railway yard,   \n",
       "4     alaknanda  5.0  part off cng station okhla phase‐1,a‐block okh...   \n",
       "\n",
       "   noofcustomersaffected      capacity duration  unservedmuduetooutage  \\\n",
       "0                  312.0  other outage     0:43               0.000005   \n",
       "1                  314.0  other outage     0:09               0.000017   \n",
       "2                  303.0  other outage     0:57               0.000633   \n",
       "3                  302.0  other outage     0:37               0.000319   \n",
       "4                  140.0  other outage     0:33               0.000413   \n",
       "\n",
       "                remarks                 date             end_date  ... dairy  \\\n",
       "0  outage due to\\nfault  2019-12-02 00:00:00  2019-12-02 00:00:00  ...   0.0   \n",
       "1  outage due to\\nfault  2019-12-03 00:00:00  2019-12-03 00:00:00  ...   0.0   \n",
       "2   outage due to fault  2019-12-05 00:00:00  2019-12-05 00:00:00  ...   0.0   \n",
       "3  outage due to\\nfault  2019-12-06 00:00:00  2019-12-06 00:00:00  ...   0.0   \n",
       "4   outage due to fault  2019-12-06 00:00:00  2019-12-06 00:00:00  ...   0.0   \n",
       "\n",
       "  residential minute_of_day    q  quarter   hourly    year   r_permin  \\\n",
       "0         0.0          31.0  3.0  49898.0  16993.0  2019.0   0.116279   \n",
       "1         0.0          30.0  3.0  49924.0  17003.0  2019.0   1.888889   \n",
       "2         0.0          19.0  2.0  50008.0  17036.0  2019.0  11.105263   \n",
       "3         0.0          21.0  2.0  50072.0  17060.0  2019.0   8.621622   \n",
       "4         0.0          30.0  3.0  50063.0  17057.0  2019.0  12.515152   \n",
       "\n",
       "           pi  duration_cf  \n",
       "0    0.930233         43.0  \n",
       "1   15.111111          9.0  \n",
       "2   88.842105         57.0  \n",
       "3   68.972973         37.0  \n",
       "4  100.121212         33.0  \n",
       "\n",
       "[5 rows x 32 columns]"
      ]
     },
     "execution_count": 27,
     "metadata": {},
     "output_type": "execute_result"
    }
   ],
   "source": [
    "wd = Path.cwd()\n",
    "data = pd.read_csv(wd.parent/'data'/'data_transformed'/'outage_bunch.csv')\n",
    "\n",
    "data.head()"
   ]
  },
  {
   "cell_type": "markdown",
   "metadata": {},
   "source": [
    "$\\pi$: revenue loss from outage\n",
    "\n",
    "Calculation: \\\n",
    "$r =$ unserved kWh / duration of outage \\\n",
    "$\\pi = r * tariff$\n",
    "\n",
    "unserved kWh is a function of the number of customers affected and the duration of the outage"
   ]
  },
  {
   "cell_type": "code",
   "execution_count": 6,
   "metadata": {},
   "outputs": [
    {
     "name": "stdout",
     "output_type": "stream",
     "text": [
      "median pi: 44.44444444444444\n",
      "0.8333333333333334 1.6666666666666667\n"
     ]
    },
    {
     "data": {
      "text/plain": [
       "<matplotlib.legend.Legend at 0x22e057ccbb0>"
      ]
     },
     "execution_count": 6,
     "metadata": {},
     "output_type": "execute_result"
    },
    {
     "data": {
      "image/png": "[encoded data removed]",
      "text/plain": [
       "<Figure size 720x288 with 2 Axes>"
      ]
     },
     "metadata": {
      "needs_background": "light"
     },
     "output_type": "display_data"
    }
   ],
   "source": [
    "## calculate pi \n",
    "\n",
    "#the tariff is a price per kwh\n",
    "tariff = 8\n",
    "\n",
    "data['r_permin'] = data.apply(lambda row: row.unservedmuduetooutage * 1e6 / row.duration_minutes, axis = 1)\n",
    "\n",
    "data['pi'] = data.r_permin * tariff\n",
    "\n",
    "pi = data.pi.median()\n",
    "\n",
    "print('median pi:', pi)\n",
    "\n",
    "\n",
    "\n",
    "# define parameters \n",
    "phi = 50/60 \n",
    "phi120 = 100/60\n",
    "print(phi, phi120)\n",
    "\n",
    "#sns.kdeplot(data.r_permin)\n",
    "\n",
    "# \n",
    "fig, ax = plt.subplots(1,2, figsize=(10,4))\n",
    "ax[0].scatter(data.hour_of_day, data.unservedmuduetooutage, label = 'unservedMU')\n",
    "ax[1].scatter(data.hour_of_day, data.r_permin, label='r_permin', color='red')\n",
    "fig.legend()\n",
    "\n",
    "#data.r_permin.describe()"
   ]
  },
  {
   "cell_type": "markdown",
   "metadata": {},
   "source": [
    "## model estimation : alpha"
   ]
  },
  {
   "cell_type": "markdown",
   "metadata": {},
   "source": [
    "non-linear least squares"
   ]
  },
  {
   "cell_type": "markdown",
   "metadata": {},
   "source": [
    "$ (\\frac{\\pi + \\phi}{\\pi}) (\\frac{x}{x + \\Delta x}) = \\frac{1}{\\alpha} [(\\frac{\\pi + \\phi}{\\phi})^{\\alpha / 1+\\alpha} (1+\\alpha) - (1 + \\frac{\\Delta x}{x})^{\\alpha}]$"
   ]
  },
  {
   "cell_type": "code",
   "execution_count": 149,
   "metadata": {},
   "outputs": [
    {
     "name": "stdout",
     "output_type": "stream",
     "text": [
      "[[Fit Statistics]]\n",
      "    # fitting method   = leastsq\n",
      "    # function evals   = 15\n",
      "    # data points      = 87690\n",
      "    # variables        = 1\n",
      "    chi-square         = 9311.39608\n",
      "    reduced chi-square = 0.10618659\n",
      "    Akaike info crit   = -196648.861\n",
      "    Bayesian info crit = -196639.479\n",
      "[[Variables]]\n",
      "    alpha: -0.94022612 +/- 9.7503e-04 (0.10%) (init = 0.5)\n"
     ]
    }
   ],
   "source": [
    "# code source: https://lmfit.github.io/lmfit-py/fitting.html\n",
    "\n",
    "data_clean = data[data.pi >0] # keep only non-negative values\n",
    "# calculate left side of equation\n",
    "left = data_clean.apply(lambda row: (row.pi + phi) / row.pi * 60/(60+dx60) , axis = 1 ).to_numpy()\n",
    "\n",
    "pars = Parameters()\n",
    "pars.add('alpha', value = .8)\n",
    "\n",
    "def residual(pars,pi, data ,phi = phi, x = 60, dx = dx60):\n",
    "    vals = pars.valuesdict()\n",
    "    alpha = vals['alpha']\n",
    "    # RHS of equation\n",
    "    model = 1/alpha * (((pi + phi)/phi)**(alpha /(1+alpha)) * (1+alpha) - (1 + (dx/ x))**alpha )\n",
    "    return model - data\n",
    "\n",
    "fit_params = Parameters()\n",
    "fit_params.add('alpha', value = .5)\n",
    "\n",
    "# fit model\n",
    "out = minimize(residual, fit_params, args = (data_clean.pi.to_numpy() ,left))\n",
    "print(fit_report(out)) # output"
   ]
  },
  {
   "cell_type": "code",
   "execution_count": 168,
   "metadata": {},
   "outputs": [
    {
     "name": "stdout",
     "output_type": "stream",
     "text": [
      "-------------------------------\n",
      "Parameter    Value       Stderr\n",
      "alpha      -0.94023     0.00098\n"
     ]
    }
   ],
   "source": [
    "print('-------------------------------')\n",
    "print('Parameter    Value       Stderr')\n",
    "for name, param in out.params.items():\n",
    "    print(f'{name:7s} {param.value:11.5f} {param.stderr:11.5f}')\n"
   ]
  },
  {
   "cell_type": "code",
   "execution_count": 169,
   "metadata": {},
   "outputs": [],
   "source": [
    "alpha = out.params['alpha'].value"
   ]
  },
  {
   "cell_type": "markdown",
   "metadata": {},
   "source": [
    "\n",
    "\n",
    "solve for $\\alpha$ and compare: $K(x^I) = K(x^*)$\n",
    "\n",
    "$K(x^I) = (\\pi + \\phi)^{\\alpha /1+\\alpha} (x^* + \\Delta x^*) \\pi^{1/1+\\alpha}  (1 + 1/\\alpha)$\n",
    "\n",
    "\n",
    "at $x$ around $60$: $\\phi = 50$\n",
    "\n",
    "If $x>120$: $\\phi = 100$\n",
    "\n",
    "\n",
    "I am now doing it for N=1, not sure if that's right. Also, we should double check the functions. What values of $\\pi$ and $\\phi$ should we use? For $\\pi$ we could maybe do a weighted average"
   ]
  },
  {
   "cell_type": "code",
   "execution_count": 28,
   "metadata": {},
   "outputs": [
    {
     "name": "stdout",
     "output_type": "stream",
     "text": [
      "alpha: 5.925371436624084 deltax 4.303755439887405\n",
      "alpha: 5.283274454191148 deltax 1.0355002865033742\n"
     ]
    },
    {
     "name": "stderr",
     "output_type": "stream",
     "text": [
      "c:\\Users\\paula\\OneDrive\\Documents\\400_VWL\\420 Work\\Dana\\Dehli_outages\\src\\tools.py:18: RuntimeWarning: divide by zero encountered in double_scalars\n",
      "  first = sigma / alpha\n",
      "<ipython-input-28-9f8946c7dab8>:25: RuntimeWarning: invalid value encountered in double_scalars\n",
      "  return L(a) - R(a)\n"
     ]
    },
    {
     "data": {
      "text/plain": [
       "<matplotlib.lines.Line2D at 0x22e0bfb6e80>"
      ]
     },
     "execution_count": 28,
     "metadata": {},
     "output_type": "execute_result"
    },
    {
     "data": {
      "image/png": "[encoded data removed]",
      "text/plain": [
       "<Figure size 432x288 with 1 Axes>"
      ]
     },
     "metadata": {
      "needs_background": "light"
     },
     "output_type": "display_data"
    }
   ],
   "source": [
    "alpha60 = tools.solve_alpha(60, bunch60.total_bunch(), pi, phi=50/60, phi120 = 100/60, startingvalue = 10)\n",
    "alpha120 = tools.solve_alpha(120, bunch120.total_bunch(), pi, phi=50/60, phi120 = 100/60, startingvalue=10)\n",
    "\n",
    "print('alpha:',alpha60, 'deltax', bunch60.total_bunch())\n",
    "print('alpha:',alpha120, 'deltax', bunch120.total_bunch())\n",
    "\n",
    "alpha = alpha60\n",
    "#alpha = 0.8\n",
    "\n",
    "# plot indifference as a function of alpha\n",
    "delta_x = bunch60.total_bunch()\n",
    "def sigmaI(a):\n",
    "    return (60 + delta_x)*(pi)**(1/(1+a))\n",
    "\n",
    "def  xI(a):\n",
    "    return  sigmaI(a) * (pi+50/60)**(-1/(1+a))\n",
    "\n",
    "def L(a):\n",
    "    return tools.K(xI(a), sigmaI(a), pi=pi, phi=50/60, phi120 = 100/60,alpha=a, N=1)\n",
    "    \n",
    "def R(a):\n",
    "    return pi*60 + tools.C(60, sigmaI(a), a) \n",
    "\n",
    "def solution(a):\n",
    "    return L(a) - R(a)\n",
    "\n",
    "alphas = np.linspace(0,15, 100)\n",
    "sol =  [solution(a) for a in alphas]\n",
    "plt.plot(alphas,sol)\n",
    "plt.axhline(0, linestyle = 'dashed')\n",
    "plt.axvline(alpha60, linestyle='dashed', color = 'red')"
   ]
  },
  {
   "cell_type": "markdown",
   "metadata": {},
   "source": [
    "## calculate the $\\sigma$'s based on the counterfactual x's and alpha's"
   ]
  },
  {
   "cell_type": "code",
   "execution_count": null,
   "metadata": {},
   "outputs": [],
   "source": [
    "data['sigma'] = 0\n",
    "\n",
    "def get_sigma(s,x):\n",
    "    if x < 60:\n",
    "        exp = tools.xopt(s, pi = pi, phi=0, alpha = 1.5, N=N) - x\n",
    "    elif x < 120:\n",
    "        exp = tools.xopt(s, pi = pi, phi=50/60, alpha = 1.5, N=N) - x\n",
    "    else:   \n",
    "        exp = tools.xopt(s, pi = pi, phi=100/60, alpha = 1.5, N=N) - x\n",
    "    return exp\n",
    "\n",
    "for i in data.index:\n",
    "    s = symbols('s')\n",
    "    x = data.loc[i, 'duration_cf']\n",
    "    N = data.loc[i, 'noofcustomersaffected']\n",
    "    pi = data.loc[i, 'pi']\n",
    "    data.loc[i,'sigma'] = fsolve(get_sigma, x0 = 10, args = (x))[0]\n"
   ]
  },
  {
   "cell_type": "code",
   "execution_count": null,
   "metadata": {},
   "outputs": [],
   "source": [
    "sns.kdeplot(x =data.sigma)\n",
    "plt.xlim(-1000,20000)\n",
    "data.sigma.describe()\n",
    "# we have some missing values, in don't know why because all inputs seem to have no missings\n",
    "# but maybe this explains the strange density"
   ]
  }
 ],
 "metadata": {
  "interpreter": {
   "hash": "751f88bc81ff633e903dce1c8aeae8029e2f9e80f01621a63afdad018a476671"
  },
  "kernelspec": {
   "display_name": "Python 3.8.10 64-bit ('dehli': conda)",
   "name": "python3"
  },
  "language_info": {
   "codemirror_mode": {
    "name": "ipython",
    "version": 3
   },
   "file_extension": ".py",
   "mimetype": "text/x-python",
   "name": "python",
   "nbconvert_exporter": "python",
   "pygments_lexer": "ipython3",
   "version": "3.8.10"
  },
  "orig_nbformat": 4
 },
 "nbformat": 4,
 "nbformat_minor": 2
}
