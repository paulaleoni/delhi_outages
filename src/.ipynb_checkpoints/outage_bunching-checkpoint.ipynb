{
 "cells": [
  {
   "cell_type": "markdown",
   "metadata": {},
   "source": [
    "# bunching estimation using the real data\n",
    "\n",
    "take concept from simulation"
   ]
  },
  {
   "cell_type": "code",
   "execution_count": 1,
   "metadata": {},
   "outputs": [],
   "source": [
    "# load packages\n",
    "# COMMENT\n",
    "import pandas as pd\n",
    "from pathlib import Path\n",
    "import matplotlib.pyplot as plt\n",
    "import seaborn as sns\n",
    "#import statsmodels.api as sm\n",
    "import numpy as np\n",
    "#from scipy.optimize import fsolve\n",
    "#from scipy import integrate\n",
    "from sympy import symbols, solve, Eq\n",
    "import random\n",
    "from heapq import nlargest\n",
    "import tools # this imports the file tools.py // must be in the same folder as the current file\n",
    "import zipfile\n",
    "\n",
    "np.random.seed(111)\n"
   ]
  },
  {
   "cell_type": "code",
   "execution_count": 2,
   "metadata": {},
   "outputs": [],
   "source": [
    "# load data\n",
    "wd = Path.cwd()\n",
    "folder = 'data/stata'\n",
    "file = 'Outages_{period}.dta'\n",
    "zip = 'Outages_{period}.zip'\n",
    "zip = zipfile.ZipFile(wd.parent/folder/zip)\n",
    "data = pd.read_stata(zip.open(file)) # convert_categoricals = True\n",
    "#print(data.columns)\n",
    "\n",
    "\n",
    "data['year'] = data.apply(lambda row: row.date.year, axis=1)\n",
    "\n",
    "# keep year 2019\n",
    "#data = data[data.apply(lambda row: row.date.year == 2019, axis=1)]\n",
    "\n",
    "# keep only unplanned\n",
    "data = data.loc[data.planned != 'planned',]\n",
    "\n",
    "# at least 100 custumers affected\n",
    "data = data.loc[data.noofcustomersaffected >= 100]\n",
    "\n",
    "data.reset_index(drop = True)\n",
    "\n",
    "# there is probably some rounding issue in unserveredmuduetooutage\n",
    "# if it is 0 we replace it with 0.00001\n",
    "data.loc[data.unservedmuduetooutage.isna() ,'unservedmuduetooutage'] = 0.00001\n",
    "\n",
    "\n",
    "# keep one firm\n",
    "#data = data.loc[data.discom == 'tata',]\n",
    "#data.describe()"
   ]
  },
  {
   "cell_type": "code",
   "execution_count": 3,
   "metadata": {},
   "outputs": [],
   "source": [
    "bunching = {}\n",
    "for f in data.discom.unique():\n",
    "    bunching[f] = {'data': data[data.discom == f]}\n",
    "\n",
    "bunching['pooled'] = {'data': data} \n",
    "\n"
   ]
  },
  {
   "cell_type": "markdown",
   "metadata": {},
   "source": [
    "density of duration "
   ]
  },
  {
   "cell_type": "code",
   "execution_count": 4,
   "metadata": {},
   "outputs": [
    {
     "data": {
      "text/plain": [
       "<matplotlib.legend.Legend at 0x15e82e78430>"
      ]
     },
     "execution_count": 4,
     "metadata": {},
     "output_type": "execute_result"
    }
   ],
   "source": [
    "xmax  = 420\n",
    "\n",
    "fig, axs = plt.subplots(1,2,figsize=(18,5))\n",
    "for f in bunching:\n",
    "    dt = bunching[f]['data']\n",
    "    sns.kdeplot(dt.duration_minutes, ax = axs[0], label = f)\n",
    "    axs[1].hist(dt.duration_minutes, histtype = 'step', bins = xmax, label = f)\n",
    "\n",
    "axs[0].axvline(60, color  = 'grey')\n",
    "axs[0].axvline(120, color  = 'grey')\n",
    "axs[0].set_xlim(0,xmax)\n",
    "axs[0].legend()\n",
    "\n",
    "axs[1].axvline(60, color  = 'grey')\n",
    "axs[1].axvline(120, color  = 'grey')\n",
    "axs[1].set_xlim(0,xmax)\n",
    "axs[1].legend()"
   ]
  },
  {
   "cell_type": "markdown",
   "metadata": {},
   "source": [
    "# Bunching Estimation"
   ]
  },
  {
   "cell_type": "markdown",
   "metadata": {},
   "source": [
    "- separately for each firm and notch\n",
    "- define, binsize, excluded region, missing region, maximum  and minimum value of x considered and the degree of the poynomial (6 in the moment)\n",
    "- preparation steps\n",
    "    - create a dataframe at the bin-level by sorting all observations (duration) of the dataframe in bins with binsize as given\n",
    "    - count the observations being in each bin\n",
    "    - create polynomials of the lowerbound of each bin up the degree as given\n",
    "    - create dummy variables for bunching and missing mass\n",
    "- estimation\n",
    "    - create a regressor matrix using an intercept, the polynomials and the dummy variables\n",
    "    - OLS of #observations on the regressor matrix\n",
    "- prediction\n",
    "    - set all dummies to zero\n",
    "    - use the estimated coefficients to predict the number of observations in each bin\n",
    "- $\\Delta x$ (total_bunch? - maybe be should switch our wording to avoid confusion)\n",
    "    - extract the prediction and the actual observations in the excluded region \n",
    "    - using the estimated model parameters, approximate a function\n",
    "    - integrate this function from the notch until notch + z \n",
    "    - get the difference between observation and prediction\n",
    "    - from that difference, substract the calculated integral and find the value of z for which it is zero\n",
    "    - the found z is our $\\Delta x$"
   ]
  },
  {
   "cell_type": "code",
   "execution_count": 5,
   "metadata": {},
   "outputs": [
    {
     "name": "stdout",
     "output_type": "stream",
     "text": [
      "-----bunching at 60 -----brpl----------\n",
      "EX: -0.3020812629615438 mX: -3.262791873823303 B: -89.24211904142203\n",
      "total bunching -0.32347439315455523\n",
      "-----bunching at 60 -----bypl----------\n",
      "EX: 8.308873745105332 mX: -14.214969322291198 B: 2648.020789135148\n",
      "total bunching 12.156995276646507\n",
      "-----bunching at 60 -----tata----------\n",
      "EX: 2.4314265747849837 mX: 2.418291888789241 B: 1045.804181617038\n",
      "total bunching 3.220253870118228\n",
      "-----bunching at 60 -----pooled----------\n",
      "EX: 3.4518663643897822 mX: -4.158703352542784 B: 3604.582851710693\n",
      "total bunching 4.303755439887405\n"
     ]
    }
   ],
   "source": [
    "# bunching at x = 60\n",
    "bsize = 1\n",
    "ex_reg = 10\n",
    "ex_reg_miss = 20\n",
    "z = 59\n",
    "z_lower60 = z - bsize*ex_reg\n",
    "\n",
    "missing60 = z + ex_reg_miss*bsize\n",
    "\n",
    "for f in bunching:\n",
    "    dt = bunching[f]['data']\n",
    "    bunch60 = tools.bunching(dt.duration_minutes, bsize = bsize, xmax= 115, xmin= 0, z_upper= z, z_lower= z_lower60, missing = missing60, ex_reg= ex_reg, ex_reg_miss=ex_reg_miss, poly_dgr=6)\n",
    "    bunching[f].update({'bunch60': bunch60})    \n",
    "    #display(bunch60.estimation_res())\n",
    "    print(f'-----bunching at 60 -----{f}----------')\n",
    "    print('EX:', bunch60.get_deltaX(), 'mX:', bunch60.get_mX(), 'B:', bunch60.get_B())\n",
    "    print('total bunching',bunch60.total_bunch())\n",
    "\n",
    "\n",
    "#print(bunch60.df_count())\n",
    "\n",
    "\n"
   ]
  },
  {
   "cell_type": "code",
   "execution_count": 6,
   "metadata": {},
   "outputs": [
    {
     "name": "stdout",
     "output_type": "stream",
     "text": [
      "-----bunching at 120 -----brpl----------\n",
      "deltaX: 1.0750935934714858\n",
      "total bunching 0.20402852095843785\n",
      "-----bunching at 120 -----bypl----------\n",
      "deltaX: 3.1784042177717065\n",
      "total bunching 21.222889594842897\n",
      "-----bunching at 120 -----tata----------\n",
      "deltaX: 2.6161394640675932\n",
      "total bunching 0.985919418343619\n",
      "-----bunching at 120 -----pooled----------\n",
      "deltaX: 2.4345764836681165\n",
      "total bunching 1.0355002865033742\n"
     ]
    }
   ],
   "source": [
    "# bunching at x = 120\n",
    "bsize = 1\n",
    "ex_reg = 10\n",
    "z = 119\n",
    "z_lower120 = z - 5 * bsize\n",
    "missing120 = z + ex_reg * bsize\n",
    "\n",
    "\n",
    "for f in bunching:\n",
    "    dt = bunching[f]['data']\n",
    "    bunch120 = tools.bunching(dt.duration_minutes, bsize = bsize, xmax= 160, xmin= 90, z_upper= z, z_lower= z_lower120, missing = missing120, ex_reg= ex_reg, ex_reg_miss = ex_reg_miss, poly_dgr=9, include_missing=False)\n",
    "    bunching[f].update({'bunch120': bunch120})\n",
    "    #display(bunch120.estimation_res())\n",
    "    print(f'-----bunching at 120 -----{f}----------')\n",
    "    print('deltaX:', bunch120.get_deltaX())\n",
    "    print('total bunching',bunch120.total_bunch())\n",
    "\n",
    "#print(bunch120.df_count())\n"
   ]
  },
  {
   "cell_type": "markdown",
   "metadata": {},
   "source": [
    "plot of counterfactual and actual data"
   ]
  },
  {
   "cell_type": "code",
   "execution_count": 7,
   "metadata": {},
   "outputs": [],
   "source": [
    "\n",
    "fig, ax = plt.subplots(1,len(bunching),figsize=(15,5))\n",
    "\n",
    "for i in range(len(bunching)):\n",
    "    f = list(bunching.keys())[i]\n",
    "    # concat the two predictions\n",
    "    pred60 = bunching[f]['bunch60'].prediction()\n",
    "    pred120 = bunching[f]['bunch120'].prediction()\n",
    "    pred = pd.concat([pred60,pred120], ignore_index=True)\n",
    "\n",
    "    ax[i].plot(pred.duration, pred.y_pred, label = 'prediction')\n",
    "    ax[i].plot(pred.duration, pred.nobs, label = 'observation')\n",
    "    ax[i].axvline(60, color= 'grey', linestyle = 'dashed')\n",
    "    ax[i].axvline(120, color= 'grey', linestyle = 'dashed')\n",
    "    ax[i].set_xticks(ticks = [60, 120])\n",
    "    ax[i].spines['right'].set_visible(False)\n",
    "    ax[i].spines['top'].set_visible(False)\n",
    "    ax[i].set_xlabel('Duration (Minutes)')\n",
    "    ax[i].set_title(f)\n",
    "    ax[i].legend()"
   ]
  },
  {
   "cell_type": "markdown",
   "metadata": {},
   "source": [
    "Visualize $\\Delta x$"
   ]
  },
  {
   "cell_type": "code",
   "execution_count": 8,
   "metadata": {},
   "outputs": [],
   "source": [
    "fig, ax = plt.subplots(1,len(bunching),figsize=(15,5))\n",
    "min = -50\n",
    "for i in range(len(bunching)):\n",
    "    f = list(bunching.keys())[i]\n",
    "    bunch = bunching[f]['bunch60']\n",
    "    pred60 = bunching[f]['bunch60'].prediction()\n",
    "    b = np.round(60 + bunch.total_bunch())\n",
    "    ax[i].plot(pred60.duration[pred60.duration >= 0], pred60.y_pred[pred60.duration >= 0], color = 'black', linestyle='dashed', label = 'counterfactual')\n",
    "    ax[i].plot(pred60.duration, pred60.nobs, color = 'violet')\n",
    "    ax[i].plot([60,60], [min,pred60.loc[pred60.duration == 60, 'y_pred'].reset_index(drop=True)[0]], color = 'grey')\n",
    "    ax[i].axvline(b,color='grey', linestyle = 'dashed')\n",
    "    ax[i].set_xlabel('Duration (Minutes)')\n",
    "    ax[i].set_ylabel('# observations')\n",
    "    ax[i].set_xticks([60 , b])\n",
    "    ax[i].set_xticklabels(labels = [60,b])\n",
    "    ax[i].set_ylim(min,pred60.nobs.max()+ 100)\n",
    "    ax[i].fill_between(np.linspace(60,b,np.sum((pred60.duration > 60) & (pred60.duration < b))),pred60.y_pred[(pred60.duration > 60) & (pred60.duration < b)], np.repeat(min,np.sum((pred60.duration > 60) & (pred60.duration < b))), alpha = .3, color = 'grey')\n",
    "    ax[i].annotate('bunching mass', xy = (67,min + 50), size = 7)\n",
    "    ax[i].legend()\n",
    "    ax[i].set_title(f)\n",
    "\n",
    "#fig.savefig('xdensity.png',dpi=120, format='png')"
   ]
  },
  {
   "cell_type": "markdown",
   "metadata": {},
   "source": [
    "## get counterfactual duration at outage level\n",
    "\n",
    "!! this is maybe not optimal. Right now, I am assuming a poisson distribution in the bins of the missing mass. \\\n"
   ]
  },
  {
   "cell_type": "markdown",
   "metadata": {},
   "source": [
    "- separately for each firm\n",
    "- first, create a dataframe using the predictions from bunching estimation on bin-level\n",
    "    - create dummies for bins being in the bunching and missing mass at 60 and 120\n",
    "    - calculatie difference between number of observation in each bin and the prediction\n",
    "    - calculate probability of an observation being in a specific bin: prediction/sum(prediction)\n",
    "- second\n",
    "    - for each bin in the bunching region\n",
    "    - take difference in each bin, identify the observations (original data) that fall in that bin and randomly sample from those with size = difference\n",
    "    - randomly select a bin from the missing mass weighted by the probability\n",
    "    - redistribute observations from the selected bunching-bin to the selected missing-bin using a poisson distribution\n",
    "- save this as column 'duration_cf' in the dataframe\n"
   ]
  },
  {
   "cell_type": "code",
   "execution_count": 9,
   "metadata": {},
   "outputs": [
    {
     "name": "stdout",
     "output_type": "stream",
     "text": [
      "True\n",
      "True\n",
      "True\n",
      "True\n"
     ]
    }
   ],
   "source": [
    "for f in bunching:\n",
    "    bunch60 = bunching[f]['bunch60']\n",
    "    bunch120 = bunching[f]['bunch120']\n",
    "    # concat the two predictions\n",
    "    pred60 = bunch60.prediction()\n",
    "    pred120 = bunch120.prediction()\n",
    "    pred60 = pred60[pred60.duration <= 100]\n",
    "    pred120 = pred120[pred120.duration > 100]\n",
    "    cf = pd.concat([pred60,pred120], ignore_index=True)\n",
    "    # first need to get the counterfactuals for the bins    \n",
    "    cf = cf.loc[:,['bin', 'nobs', 'duration', 'b', 'm','y_pred']]\n",
    "    cf['difference'] = cf.nobs - cf.y_pred\n",
    "    # make sure that at least one bin is in missing\n",
    "    upper60 = 60 + abs(bunch60.total_bunch()) + bsize \n",
    "    upper120 = 120 + abs(bunch120.total_bunch()) + bsize \n",
    "    # create dummies\n",
    "    cf['b60'] = cf.apply(lambda row: 1 if (row.b ==1) & (row.duration <= missing60) else 0, axis = 1)\n",
    "    cf['missing60'] = cf.apply(lambda row: 1 if (row.duration > 60) & (row.duration <= upper60) else 0, axis = 1)\n",
    "    cf['b120'] = cf.apply(lambda row: 1 if (row.b ==1) & (row.duration >= z_lower120) else 0, axis = 1)\n",
    "    cf['missing120'] = cf.apply(lambda row: 1 if (row.duration > 120) & (row.duration <= upper120) else 0, axis = 1)\n",
    "\n",
    "    # calculate missing\n",
    "    sum60 = cf.loc[(cf.duration > 60) & (cf.duration <= upper60) & (cf.y_pred >= 0),'y_pred'].sum()\n",
    "    sum120 = cf.loc[(cf.duration > 120) & (cf.duration <= upper120) & (cf.y_pred >= 0),'y_pred'].sum()\n",
    "\n",
    "    # calculate probability of being in bin, avoiding negative probabilities\n",
    "    cf['prob'] = 0\n",
    "    cf.loc[(cf.duration > 60) & (cf.duration <= upper60) & (cf.y_pred >= 0), 'prob'] = cf.y_pred / sum60\n",
    "    cf.loc[(cf.duration > 120) & (cf.duration <= upper120) & (cf.y_pred >= 0), 'prob'] = cf.y_pred / sum120\n",
    "\n",
    "    print(cf.prob.sum() == 2)\n",
    "    #print(cf[(cf.b60 == 1) | (cf.b120 == 1) | (cf.missing120 == 1) | (cf.missing60 == 1)])\n",
    "\n",
    "    # save in dictionary\n",
    "    bunching[f].update({'counterfactual_bins':cf})"
   ]
  },
  {
   "cell_type": "code",
   "execution_count": 10,
   "metadata": {},
   "outputs": [
    {
     "name": "stderr",
     "output_type": "stream",
     "text": [
      "C:\\Users\\paula\\anaconda3\\envs\\dehli\\lib\\site-packages\\pandas\\core\\indexing.py:1773: SettingWithCopyWarning: \n",
      "A value is trying to be set on a copy of a slice from a DataFrame.\n",
      "Try using .loc[row_indexer,col_indexer] = value instead\n",
      "\n",
      "See the caveats in the documentation: https://pandas.pydata.org/pandas-docs/stable/user_guide/indexing.html#returning-a-view-versus-a-copy\n",
      "  self._setitem_single_column(ilocs[0], value, pi)\n"
     ]
    }
   ],
   "source": [
    "## difference in b60 need to be distributed to missing mass\n",
    "\n",
    "# new column\n",
    "data['duration_cf'] = data.duration_minutes\n",
    "\n",
    "# in case of pooling etc.\n",
    "notfirms = [x for x in bunching.keys() if x not in data.discom.unique()]\n",
    "for x in notfirms:\n",
    "    data[f'duration_cf_{f}'] = data.duration_minutes\n",
    "\n",
    "\n",
    "for f in bunching:\n",
    "    # subset dataframe but keep index\n",
    "    if f in data.discom.unique():\n",
    "        dt = data[data.discom == f]\n",
    "        column = 'duration_cf'\n",
    "    if f not in data.discom.unique():\n",
    "        dt = data.copy()\n",
    "        column = f'duration_cf_{f}'\n",
    "    \n",
    "    \n",
    "    # get counterfactual bins\n",
    "    cf = bunching[f]['counterfactual_bins']\n",
    "\n",
    "    dict = {'60': cf.loc[(cf.b60 ==1) & (cf.difference >0),].index, '120': cf.loc[(cf.b120 ==1) & (cf.difference >0),].index}\n",
    "    dict_m = {'60': cf.missing60, '120':cf.missing120}\n",
    "\n",
    "    for d in ['60','120']:\n",
    "        ind = dict[d]\n",
    "        m = dict_m[d]\n",
    "        for b in ind:\n",
    "            # select bin\n",
    "            bin = cf.bin[b]   \n",
    "            # get 'extra' observations\n",
    "            diff = np.round(cf.difference[b]).astype(int)\n",
    "            #print(bin, diff)\n",
    "            # extract the data in bin and select n = diff random values\n",
    "            new_data = dt.loc[(dt.duration_cf >= bin[0]) & (dt.duration_cf <= bin[1])].sample(n = diff, axis = 0)\n",
    "            # now randomly choose a bin in the missing mass, weighted by prob of observations being in that bin bin\n",
    "            mis = cf.loc[m == 1,].sample(n=1, axis =0, weights = cf.prob).bin.reset_index(drop=True)[0]\n",
    "            # create n=diff random values in bin\n",
    "            new = np.random.poisson((mis[1] +  mis[0])/2, size = diff) # here I am assuming a poisson distribution in the bins\n",
    "            # replace values in \n",
    "            data.loc[new_data.index.tolist(), column] = new\n",
    "            dt.loc[new_data.index.tolist(), column] = new           \n",
    "\n",
    "#data.describe()"
   ]
  },
  {
   "cell_type": "markdown",
   "metadata": {},
   "source": [
    "### plot of estimated counterfactual distribution and actual distribution"
   ]
  },
  {
   "cell_type": "code",
   "execution_count": 11,
   "metadata": {},
   "outputs": [],
   "source": [
    "# should look similar to counterfactual density from bunching estimation\n",
    "fig, ax = plt.subplots(1,len(bunching),figsize=(15,5))\n",
    "for i in range(len(bunching)):\n",
    "    f = list(bunching.keys())[i]\n",
    "    column = 'duration_cf'\n",
    "    dt = data[data.discom == f]\n",
    "    if f not in data.discom.unique(): \n",
    "        column = f'duration_cf_{f}'\n",
    "        dt = data\n",
    "    sns.kdeplot(dt[column][dt[column] < 200], label = 'counterfactual', ax = ax[i])\n",
    "    sns.kdeplot(dt.duration_minutes[dt.duration_minutes < 200], label='observation', ax = ax[i])\n",
    "    ax[i].axvline(60)\n",
    "    ax[i].axvline(120)\n",
    "    ax[i].legend()\n",
    "    ax[i].set_title(f)\n",
    "#plt.xlim(55,65)\n",
    "#plt.ylim(0.000,0.004)\n"
   ]
  },
  {
   "cell_type": "code",
   "execution_count": 12,
   "metadata": {},
   "outputs": [],
   "source": [
    "# export \n",
    "data.to_csv(wd.parent/'data'/'data_transformed'/'outage_bunch.csv', index=False)"
   ]
  }
 ],
 "metadata": {
  "interpreter": {
   "hash": "751f88bc81ff633e903dce1c8aeae8029e2f9e80f01621a63afdad018a476671"
  },
  "kernelspec": {
   "display_name": "Python 3",
   "language": "python",
   "name": "python3"
  },
  "language_info": {
   "codemirror_mode": {
    "name": "ipython",
    "version": 3
   },
   "file_extension": ".py",
   "mimetype": "text/x-python",
   "name": "python",
   "nbconvert_exporter": "python",
   "pygments_lexer": "ipython3",
   "version": "3.7.6"
  }
 },
 "nbformat": 4,
 "nbformat_minor": 2
}
