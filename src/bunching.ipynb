{
 "cells": [
  {
   "cell_type": "markdown",
   "source": [
    "# bunching estimation using the real data\r\n",
    "\r\n",
    "take concept from simulation"
   ],
   "metadata": {}
  },
  {
   "cell_type": "code",
   "execution_count": 1,
   "source": [
    "# load packages\r\n",
    "\r\n",
    "import pandas as pd\r\n",
    "from pathlib import Path\r\n",
    "import matplotlib.pyplot as plt\r\n",
    "import seaborn as sns\r\n",
    "import statsmodels.api as sm\r\n",
    "import numpy as np\r\n",
    "from scipy.optimize import fsolve\r\n",
    "from scipy import integrate\r\n",
    "from sympy import symbols\r\n",
    "import tools # this imports the file tools.py // must be in the same folder as the current file\r\n"
   ],
   "outputs": [],
   "metadata": {}
  },
  {
   "cell_type": "code",
   "execution_count": 2,
   "source": [
    "# define parameters\r\n",
    "pi = 250\r\n",
    "phi = 50\r\n",
    "phi120 = 100"
   ],
   "outputs": [],
   "metadata": {}
  },
  {
   "cell_type": "code",
   "execution_count": 38,
   "source": [
    "# load data\r\n",
    "wd = Path.cwd()\r\n",
    "file = 'stata/Outages_{period}.dta'\r\n",
    "data = pd.read_stata(wd.parent/file)\r\n",
    "print(data.columns)\r\n",
    "\r\n",
    "# keep relevant columns\r\n",
    "data = data[['date', 'duration_minutes', 'discom', 'planned']]\r\n",
    "\r\n",
    "# keep only unplanned\r\n",
    "data = data.loc[data.planned != 'planned',]\r\n",
    "\r\n",
    "# keep year 2019\r\n",
    "data = data[data.apply(lambda row: row.date.year == 2019, axis=1)]\r\n",
    "\r\n",
    "# keep one firm\r\n",
    "#data = data.loc[data.discom == 'tata',]\r\n",
    "data"
   ],
   "outputs": [
    {
     "output_type": "stream",
     "name": "stdout",
     "text": [
      "Index(['division_name', 'id', 'area_affected', 'noofcustomersaffected',\n",
      "       'capacity', 'duration', 'unservedmuduetooutage', 'date', 'end_date',\n",
      "       'start_date', 'end_time', 'start_time', 'hour_of_day',\n",
      "       'duration_seconds', 'duration_minutes', 'duration_hours', 'discom',\n",
      "       'planned', 'industrial', 'school', 'hospital', 'dairy', 'residential',\n",
      "       'minute_of_day', 'q', 'quarter', 'hourly'],\n",
      "      dtype='object')\n"
     ]
    },
    {
     "output_type": "execute_result",
     "data": {
      "text/html": [
       "<div>\n",
       "<style scoped>\n",
       "    .dataframe tbody tr th:only-of-type {\n",
       "        vertical-align: middle;\n",
       "    }\n",
       "\n",
       "    .dataframe tbody tr th {\n",
       "        vertical-align: top;\n",
       "    }\n",
       "\n",
       "    .dataframe thead th {\n",
       "        text-align: right;\n",
       "    }\n",
       "</style>\n",
       "<table border=\"1\" class=\"dataframe\">\n",
       "  <thead>\n",
       "    <tr style=\"text-align: right;\">\n",
       "      <th></th>\n",
       "      <th>date</th>\n",
       "      <th>duration_minutes</th>\n",
       "      <th>discom</th>\n",
       "      <th>planned</th>\n",
       "    </tr>\n",
       "  </thead>\n",
       "  <tbody>\n",
       "    <tr>\n",
       "      <th>0</th>\n",
       "      <td>2019-12-02</td>\n",
       "      <td>43.0</td>\n",
       "      <td>brpl</td>\n",
       "      <td>0.0</td>\n",
       "    </tr>\n",
       "    <tr>\n",
       "      <th>1</th>\n",
       "      <td>2019-12-03</td>\n",
       "      <td>9.0</td>\n",
       "      <td>brpl</td>\n",
       "      <td>0.0</td>\n",
       "    </tr>\n",
       "    <tr>\n",
       "      <th>2</th>\n",
       "      <td>2019-12-05</td>\n",
       "      <td>57.0</td>\n",
       "      <td>brpl</td>\n",
       "      <td>0.0</td>\n",
       "    </tr>\n",
       "    <tr>\n",
       "      <th>3</th>\n",
       "      <td>2019-12-06</td>\n",
       "      <td>37.0</td>\n",
       "      <td>brpl</td>\n",
       "      <td>0.0</td>\n",
       "    </tr>\n",
       "    <tr>\n",
       "      <th>4</th>\n",
       "      <td>2019-12-06</td>\n",
       "      <td>33.0</td>\n",
       "      <td>brpl</td>\n",
       "      <td>0.0</td>\n",
       "    </tr>\n",
       "    <tr>\n",
       "      <th>...</th>\n",
       "      <td>...</td>\n",
       "      <td>...</td>\n",
       "      <td>...</td>\n",
       "      <td>...</td>\n",
       "    </tr>\n",
       "    <tr>\n",
       "      <th>132655</th>\n",
       "      <td>2019-11-29</td>\n",
       "      <td>29.0</td>\n",
       "      <td>tata</td>\n",
       "      <td>0.0</td>\n",
       "    </tr>\n",
       "    <tr>\n",
       "      <th>132662</th>\n",
       "      <td>2019-11-30</td>\n",
       "      <td>45.0</td>\n",
       "      <td>tata</td>\n",
       "      <td>0.0</td>\n",
       "    </tr>\n",
       "    <tr>\n",
       "      <th>132663</th>\n",
       "      <td>2019-11-30</td>\n",
       "      <td>54.0</td>\n",
       "      <td>tata</td>\n",
       "      <td>0.0</td>\n",
       "    </tr>\n",
       "    <tr>\n",
       "      <th>132664</th>\n",
       "      <td>2019-11-30</td>\n",
       "      <td>55.0</td>\n",
       "      <td>tata</td>\n",
       "      <td>0.0</td>\n",
       "    </tr>\n",
       "    <tr>\n",
       "      <th>132665</th>\n",
       "      <td>2019-11-30</td>\n",
       "      <td>113.0</td>\n",
       "      <td>tata</td>\n",
       "      <td>0.0</td>\n",
       "    </tr>\n",
       "  </tbody>\n",
       "</table>\n",
       "<p>55086 rows × 4 columns</p>\n",
       "</div>"
      ],
      "text/plain": [
       "             date  duration_minutes discom planned\n",
       "0      2019-12-02              43.0   brpl     0.0\n",
       "1      2019-12-03               9.0   brpl     0.0\n",
       "2      2019-12-05              57.0   brpl     0.0\n",
       "3      2019-12-06              37.0   brpl     0.0\n",
       "4      2019-12-06              33.0   brpl     0.0\n",
       "...           ...               ...    ...     ...\n",
       "132655 2019-11-29              29.0   tata     0.0\n",
       "132662 2019-11-30              45.0   tata     0.0\n",
       "132663 2019-11-30              54.0   tata     0.0\n",
       "132664 2019-11-30              55.0   tata     0.0\n",
       "132665 2019-11-30             113.0   tata     0.0\n",
       "\n",
       "[55086 rows x 4 columns]"
      ]
     },
     "metadata": {},
     "execution_count": 38
    }
   ],
   "metadata": {}
  },
  {
   "cell_type": "code",
   "execution_count": 22,
   "source": [
    "xmax  = 500\r\n",
    "\r\n",
    "fig, axs = plt.subplots(1,2,figsize=(18,5))\r\n",
    "sns.kdeplot(data.duration_minutes, ax = axs[0])\r\n",
    "axs[0].axvline(60, color  = 'grey')\r\n",
    "axs[0].axvline(120, color  = 'grey')\r\n",
    "axs[0].set_xlim(0,xmax)\r\n",
    "\r\n",
    "axs[1].hist(data.duration_minutes, histtype = 'step', bins = xmax)\r\n",
    "axs[1].axvline(60, color  = 'grey')\r\n",
    "axs[1].axvline(120, color  = 'grey')\r\n",
    "axs[1].set_xlim(0,xmax)"
   ],
   "outputs": [
    {
     "output_type": "execute_result",
     "data": {
      "text/plain": [
       "(0.0, 500.0)"
      ]
     },
     "metadata": {},
     "execution_count": 22
    },
    {
     "output_type": "display_data",
     "data": {
      "image/png": "[encoded data removed]",
      "text/plain": [
       "<Figure size 1296x360 with 2 Axes>"
      ]
     },
     "metadata": {
      "needs_background": "light"
     }
    }
   ],
   "metadata": {}
  },
  {
   "cell_type": "markdown",
   "source": [
    "## estimation"
   ],
   "metadata": {}
  },
  {
   "cell_type": "code",
   "execution_count": 33,
   "source": [
    "# bunching at x = 60\r\n",
    "bsize = 3\r\n",
    "ex_reg = 3\r\n",
    "z_lower60 = 60 - ex_reg * bsize\r\n",
    "missing60 = 60 + bsize*26\r\n",
    "\r\n",
    "bunch60 = tools.bunching(data.duration_minutes, bsize = bsize, xmax= 90, xmin= 10, z_upper= 60, z_lower= z_lower60, missing = missing60, ex_reg= ex_reg, poly_dgr=4 )\r\n",
    "\r\n",
    "\r\n",
    "display(bunch60.estimation_res())\r\n",
    "\r\n",
    "print('deltaX:', bunch60.get_deltaX(), 'mX:', bunch60.get_mX())\r\n",
    "\r\n",
    "pred60 = bunch60.prediction()\r\n",
    "\r\n",
    "print('total bunching',bunch60.total_bunch())"
   ],
   "outputs": [
    {
     "output_type": "display_data",
     "data": {
      "text/html": [
       "<table class=\"simpletable\">\n",
       "<caption>OLS Regression Results</caption>\n",
       "<tr>\n",
       "  <th>Dep. Variable:</th>          <td>nobs</td>       <th>  R-squared:         </th> <td>   0.990</td>\n",
       "</tr>\n",
       "<tr>\n",
       "  <th>Model:</th>                   <td>OLS</td>       <th>  Adj. R-squared:    </th> <td>   0.986</td>\n",
       "</tr>\n",
       "<tr>\n",
       "  <th>Method:</th>             <td>Least Squares</td>  <th>  F-statistic:       </th> <td>   316.7</td>\n",
       "</tr>\n",
       "<tr>\n",
       "  <th>Date:</th>             <td>Thu, 09 Sep 2021</td> <th>  Prob (F-statistic):</th> <td>9.72e-19</td>\n",
       "</tr>\n",
       "<tr>\n",
       "  <th>Time:</th>                 <td>14:06:28</td>     <th>  Log-Likelihood:    </th> <td> -160.36</td>\n",
       "</tr>\n",
       "<tr>\n",
       "  <th>No. Observations:</th>      <td>    27</td>      <th>  AIC:               </th> <td>   334.7</td>\n",
       "</tr>\n",
       "<tr>\n",
       "  <th>Df Residuals:</th>          <td>    20</td>      <th>  BIC:               </th> <td>   343.8</td>\n",
       "</tr>\n",
       "<tr>\n",
       "  <th>Df Model:</th>              <td>     6</td>      <th>                     </th>     <td> </td>   \n",
       "</tr>\n",
       "<tr>\n",
       "  <th>Covariance Type:</th>      <td>nonrobust</td>    <th>                     </th>     <td> </td>   \n",
       "</tr>\n",
       "</table>\n",
       "<table class=\"simpletable\">\n",
       "<tr>\n",
       "      <td></td>         <th>coef</th>     <th>std err</th>      <th>t</th>      <th>P>|t|</th>  <th>[0.025</th>    <th>0.975]</th>  \n",
       "</tr>\n",
       "<tr>\n",
       "  <th>Intercept</th> <td>-2552.1252</td> <td>  419.261</td> <td>   -6.087</td> <td> 0.000</td> <td>-3426.688</td> <td>-1677.562</td>\n",
       "</tr>\n",
       "<tr>\n",
       "  <th>duration</th>  <td>  396.5298</td> <td>   46.027</td> <td>    8.615</td> <td> 0.000</td> <td>  300.519</td> <td>  492.540</td>\n",
       "</tr>\n",
       "<tr>\n",
       "  <th>duration2</th> <td>  -10.1520</td> <td>    1.683</td> <td>   -6.033</td> <td> 0.000</td> <td>  -13.662</td> <td>   -6.642</td>\n",
       "</tr>\n",
       "<tr>\n",
       "  <th>duration3</th> <td>    0.1027</td> <td>    0.025</td> <td>    4.112</td> <td> 0.001</td> <td>    0.051</td> <td>    0.155</td>\n",
       "</tr>\n",
       "<tr>\n",
       "  <th>duration4</th> <td>   -0.0004</td> <td>    0.000</td> <td>   -2.898</td> <td> 0.009</td> <td>   -0.001</td> <td>   -0.000</td>\n",
       "</tr>\n",
       "<tr>\n",
       "  <th>b</th>         <td>  -11.0100</td> <td>  112.191</td> <td>   -0.098</td> <td> 0.923</td> <td> -245.035</td> <td>  223.015</td>\n",
       "</tr>\n",
       "<tr>\n",
       "  <th>m</th>         <td>-1171.1007</td> <td>  181.407</td> <td>   -6.456</td> <td> 0.000</td> <td>-1549.510</td> <td> -792.692</td>\n",
       "</tr>\n",
       "</table>\n",
       "<table class=\"simpletable\">\n",
       "<tr>\n",
       "  <th>Omnibus:</th>       <td> 7.416</td> <th>  Durbin-Watson:     </th> <td>   1.805</td>\n",
       "</tr>\n",
       "<tr>\n",
       "  <th>Prob(Omnibus):</th> <td> 0.025</td> <th>  Jarque-Bera (JB):  </th> <td>   5.738</td>\n",
       "</tr>\n",
       "<tr>\n",
       "  <th>Skew:</th>          <td>-0.811</td> <th>  Prob(JB):          </th> <td>  0.0568</td>\n",
       "</tr>\n",
       "<tr>\n",
       "  <th>Kurtosis:</th>      <td> 4.571</td> <th>  Cond. No.          </th> <td>5.10e+08</td>\n",
       "</tr>\n",
       "</table><br/><br/>Notes:<br/>[1] Standard Errors assume that the covariance matrix of the errors is correctly specified.<br/>[2] The condition number is large, 5.1e+08. This might indicate that there are<br/>strong multicollinearity or other numerical problems."
      ],
      "text/plain": [
       "<class 'statsmodels.iolib.summary.Summary'>\n",
       "\"\"\"\n",
       "                            OLS Regression Results                            \n",
       "==============================================================================\n",
       "Dep. Variable:                   nobs   R-squared:                       0.990\n",
       "Model:                            OLS   Adj. R-squared:                  0.986\n",
       "Method:                 Least Squares   F-statistic:                     316.7\n",
       "Date:                Thu, 09 Sep 2021   Prob (F-statistic):           9.72e-19\n",
       "Time:                        14:06:28   Log-Likelihood:                -160.36\n",
       "No. Observations:                  27   AIC:                             334.7\n",
       "Df Residuals:                      20   BIC:                             343.8\n",
       "Df Model:                           6                                         \n",
       "Covariance Type:            nonrobust                                         \n",
       "==============================================================================\n",
       "                 coef    std err          t      P>|t|      [0.025      0.975]\n",
       "------------------------------------------------------------------------------\n",
       "Intercept  -2552.1252    419.261     -6.087      0.000   -3426.688   -1677.562\n",
       "duration     396.5298     46.027      8.615      0.000     300.519     492.540\n",
       "duration2    -10.1520      1.683     -6.033      0.000     -13.662      -6.642\n",
       "duration3      0.1027      0.025      4.112      0.001       0.051       0.155\n",
       "duration4     -0.0004      0.000     -2.898      0.009      -0.001      -0.000\n",
       "b            -11.0100    112.191     -0.098      0.923    -245.035     223.015\n",
       "m          -1171.1007    181.407     -6.456      0.000   -1549.510    -792.692\n",
       "==============================================================================\n",
       "Omnibus:                        7.416   Durbin-Watson:                   1.805\n",
       "Prob(Omnibus):                  0.025   Jarque-Bera (JB):                5.738\n",
       "Skew:                          -0.811   Prob(JB):                       0.0568\n",
       "Kurtosis:                       4.571   Cond. No.                     5.10e+08\n",
       "==============================================================================\n",
       "\n",
       "Notes:\n",
       "[1] Standard Errors assume that the covariance matrix of the errors is correctly specified.\n",
       "[2] The condition number is large, 5.1e+08. This might indicate that there are\n",
       "strong multicollinearity or other numerical problems.\n",
       "\"\"\""
      ]
     },
     "metadata": {}
    },
    {
     "output_type": "stream",
     "name": "stdout",
     "text": [
      "deltaX: -0.04484380234603539 mX: -5.866255990965022\n",
      "total bunching -0.046838029257374625\n"
     ]
    }
   ],
   "metadata": {}
  },
  {
   "cell_type": "code",
   "execution_count": 34,
   "source": [
    "# bunching at x = 120\r\n",
    "bsize = 3\r\n",
    "ex_reg = 3\r\n",
    "z_lower120 = 120 - ex_reg * bsize\r\n",
    "missing120 = 120 + bsize*26\r\n",
    "\r\n",
    "# define bins\r\n",
    "\r\n",
    "bunch120 = tools.bunching(data.duration_minutes, bsize = bsize, xmax= 200, xmin= 100, z_upper= 200, z_lower= z_lower120, missing = missing120, ex_reg= ex_reg, poly_dgr=4 )\r\n",
    "\r\n",
    "\r\n",
    "display(bunch120.estimation_res())\r\n",
    "\r\n",
    "print('deltaX:', bunch120.get_deltaX())\r\n",
    "\r\n",
    "pred120 = bunch120.prediction()\r\n",
    "\r\n",
    "print('total bunching',bunch120.total_bunch())"
   ],
   "outputs": [
    {
     "output_type": "stream",
     "name": "stderr",
     "text": [
      "C:\\Users\\paula\\anaconda3\\envs\\dehli\\lib\\site-packages\\statsmodels\\regression\\linear_model.py:1860: RuntimeWarning: divide by zero encountered in double_scalars\n",
      "  return np.sqrt(eigvals[0]/eigvals[-1])\n"
     ]
    },
    {
     "output_type": "display_data",
     "data": {
      "text/html": [
       "<table class=\"simpletable\">\n",
       "<caption>OLS Regression Results</caption>\n",
       "<tr>\n",
       "  <th>Dep. Variable:</th>          <td>nobs</td>       <th>  R-squared:         </th> <td>   0.943</td>\n",
       "</tr>\n",
       "<tr>\n",
       "  <th>Model:</th>                   <td>OLS</td>       <th>  Adj. R-squared:    </th> <td>   0.932</td>\n",
       "</tr>\n",
       "<tr>\n",
       "  <th>Method:</th>             <td>Least Squares</td>  <th>  F-statistic:       </th> <td>   89.33</td>\n",
       "</tr>\n",
       "<tr>\n",
       "  <th>Date:</th>             <td>Thu, 09 Sep 2021</td> <th>  Prob (F-statistic):</th> <td>6.29e-16</td>\n",
       "</tr>\n",
       "<tr>\n",
       "  <th>Time:</th>                 <td>14:06:30</td>     <th>  Log-Likelihood:    </th> <td> -150.93</td>\n",
       "</tr>\n",
       "<tr>\n",
       "  <th>No. Observations:</th>      <td>    33</td>      <th>  AIC:               </th> <td>   313.9</td>\n",
       "</tr>\n",
       "<tr>\n",
       "  <th>Df Residuals:</th>          <td>    27</td>      <th>  BIC:               </th> <td>   322.8</td>\n",
       "</tr>\n",
       "<tr>\n",
       "  <th>Df Model:</th>              <td>     5</td>      <th>                     </th>     <td> </td>   \n",
       "</tr>\n",
       "<tr>\n",
       "  <th>Covariance Type:</th>      <td>nonrobust</td>    <th>                     </th>     <td> </td>   \n",
       "</tr>\n",
       "</table>\n",
       "<table class=\"simpletable\">\n",
       "<tr>\n",
       "      <td></td>         <th>coef</th>     <th>std err</th>      <th>t</th>      <th>P>|t|</th>  <th>[0.025</th>    <th>0.975]</th>  \n",
       "</tr>\n",
       "<tr>\n",
       "  <th>Intercept</th> <td> 7068.7660</td> <td> 5618.512</td> <td>    1.258</td> <td> 0.219</td> <td>-4459.469</td> <td> 1.86e+04</td>\n",
       "</tr>\n",
       "<tr>\n",
       "  <th>duration</th>  <td> -142.7929</td> <td>  152.346</td> <td>   -0.937</td> <td> 0.357</td> <td> -455.381</td> <td>  169.795</td>\n",
       "</tr>\n",
       "<tr>\n",
       "  <th>duration2</th> <td>    1.0767</td> <td>    1.529</td> <td>    0.704</td> <td> 0.487</td> <td>   -2.060</td> <td>    4.214</td>\n",
       "</tr>\n",
       "<tr>\n",
       "  <th>duration3</th> <td>   -0.0035</td> <td>    0.007</td> <td>   -0.521</td> <td> 0.606</td> <td>   -0.017</td> <td>    0.010</td>\n",
       "</tr>\n",
       "<tr>\n",
       "  <th>duration4</th> <td> 4.112e-06</td> <td> 1.11e-05</td> <td>    0.372</td> <td> 0.713</td> <td>-1.86e-05</td> <td> 2.68e-05</td>\n",
       "</tr>\n",
       "<tr>\n",
       "  <th>b</th>         <td>   53.4108</td> <td>   33.579</td> <td>    1.591</td> <td> 0.123</td> <td>  -15.488</td> <td>  122.309</td>\n",
       "</tr>\n",
       "<tr>\n",
       "  <th>m</th>         <td>         0</td> <td>        0</td> <td>      nan</td> <td>   nan</td> <td>        0</td> <td>        0</td>\n",
       "</tr>\n",
       "</table>\n",
       "<table class=\"simpletable\">\n",
       "<tr>\n",
       "  <th>Omnibus:</th>       <td> 8.356</td> <th>  Durbin-Watson:     </th> <td>   1.809</td>\n",
       "</tr>\n",
       "<tr>\n",
       "  <th>Prob(Omnibus):</th> <td> 0.015</td> <th>  Jarque-Bera (JB):  </th> <td>   9.804</td>\n",
       "</tr>\n",
       "<tr>\n",
       "  <th>Skew:</th>          <td> 0.583</td> <th>  Prob(JB):          </th> <td> 0.00743</td>\n",
       "</tr>\n",
       "<tr>\n",
       "  <th>Kurtosis:</th>      <td> 5.402</td> <th>  Cond. No.          </th> <td>     inf</td>\n",
       "</tr>\n",
       "</table><br/><br/>Notes:<br/>[1] Standard Errors assume that the covariance matrix of the errors is correctly specified.<br/>[2] The smallest eigenvalue is      0. This might indicate that there are<br/>strong multicollinearity problems or that the design matrix is singular."
      ],
      "text/plain": [
       "<class 'statsmodels.iolib.summary.Summary'>\n",
       "\"\"\"\n",
       "                            OLS Regression Results                            \n",
       "==============================================================================\n",
       "Dep. Variable:                   nobs   R-squared:                       0.943\n",
       "Model:                            OLS   Adj. R-squared:                  0.932\n",
       "Method:                 Least Squares   F-statistic:                     89.33\n",
       "Date:                Thu, 09 Sep 2021   Prob (F-statistic):           6.29e-16\n",
       "Time:                        14:06:30   Log-Likelihood:                -150.93\n",
       "No. Observations:                  33   AIC:                             313.9\n",
       "Df Residuals:                      27   BIC:                             322.8\n",
       "Df Model:                           5                                         \n",
       "Covariance Type:            nonrobust                                         \n",
       "==============================================================================\n",
       "                 coef    std err          t      P>|t|      [0.025      0.975]\n",
       "------------------------------------------------------------------------------\n",
       "Intercept   7068.7660   5618.512      1.258      0.219   -4459.469    1.86e+04\n",
       "duration    -142.7929    152.346     -0.937      0.357    -455.381     169.795\n",
       "duration2      1.0767      1.529      0.704      0.487      -2.060       4.214\n",
       "duration3     -0.0035      0.007     -0.521      0.606      -0.017       0.010\n",
       "duration4   4.112e-06   1.11e-05      0.372      0.713   -1.86e-05    2.68e-05\n",
       "b             53.4108     33.579      1.591      0.123     -15.488     122.309\n",
       "m                   0          0        nan        nan           0           0\n",
       "==============================================================================\n",
       "Omnibus:                        8.356   Durbin-Watson:                   1.809\n",
       "Prob(Omnibus):                  0.015   Jarque-Bera (JB):                9.804\n",
       "Skew:                           0.583   Prob(JB):                      0.00743\n",
       "Kurtosis:                       5.402   Cond. No.                          inf\n",
       "==============================================================================\n",
       "\n",
       "Notes:\n",
       "[1] Standard Errors assume that the covariance matrix of the errors is correctly specified.\n",
       "[2] The smallest eigenvalue is      0. This might indicate that there are\n",
       "strong multicollinearity problems or that the design matrix is singular.\n",
       "\"\"\""
      ]
     },
     "metadata": {}
    },
    {
     "output_type": "stream",
     "name": "stdout",
     "text": [
      "deltaX: 5.558101315720053\n",
      "total bunching 2.900848107911491\n"
     ]
    }
   ],
   "metadata": {}
  },
  {
   "cell_type": "code",
   "execution_count": 35,
   "source": [
    "fig, ax = plt.subplots(1,2, figsize=(12,5))\r\n",
    "\r\n",
    "ax[0].plot(pred60.duration, pred60.y_pred, label = 'prediction')\r\n",
    "ax[0].plot(pred60.duration, pred60.nobs, label = 'data')\r\n",
    "ax[0].set_xlabel('duration_min')\r\n",
    "ax[0].set_ylabel(r'# observation')\r\n",
    "ax[0].axvline(60, color= 'grey')\r\n",
    "ax[0].legend()    \r\n",
    "\r\n",
    "ax[1].plot(pred120.duration, pred120.y_pred, label = 'prediction')\r\n",
    "ax[1].plot(pred120.duration, pred120.nobs, label = 'data')\r\n",
    "ax[1].set_xlabel('duration_min')\r\n",
    "ax[1].set_ylabel(r'# observation')\r\n",
    "ax[1].axvline(120, color= 'grey')\r\n",
    "ax[1].legend() "
   ],
   "outputs": [
    {
     "output_type": "execute_result",
     "data": {
      "text/plain": [
       "<matplotlib.legend.Legend at 0x1e6971203a0>"
      ]
     },
     "metadata": {},
     "execution_count": 35
    },
    {
     "output_type": "display_data",
     "data": {
      "image/png": "[encoded data removed]",
      "text/plain": [
       "<Figure size 864x360 with 2 Axes>"
      ]
     },
     "metadata": {
      "needs_background": "light"
     }
    }
   ],
   "metadata": {}
  },
  {
   "cell_type": "code",
   "execution_count": 37,
   "source": [
    "### solve for alpha\r\n",
    "a = symbols('a')\r\n",
    "delta_x = bunch60.get_deltaX()\r\n",
    "def sigmaI(a):\r\n",
    "    return (60 + delta_x)*(pi)**(1/(1+a))\r\n",
    "\r\n",
    "def  xI(a):\r\n",
    "    return  sigmaI(a) * (pi+phi)**(-1/(1+a))\r\n",
    "\r\n",
    "def L(a):\r\n",
    "    return tools.K(xI(a), sigmaI(a), pi=pi, phi=phi, phi120 = phi,alpha=a)\r\n",
    "    \r\n",
    "\r\n",
    "def R(a):\r\n",
    "    return pi*60 + tools.C(60, sigmaI(a), a) \r\n",
    "\r\n",
    "def solution(a):\r\n",
    "    return L(a) - R(a)\r\n",
    "res = fsolve(solution, 1)\r\n",
    "print(res)"
   ],
   "outputs": [
    {
     "output_type": "stream",
     "name": "stdout",
     "text": [
      "[258.49688134]\n"
     ]
    }
   ],
   "metadata": {}
  }
 ],
 "metadata": {
  "orig_nbformat": 4,
  "language_info": {
   "name": "python",
   "version": "3.8.10",
   "mimetype": "text/x-python",
   "codemirror_mode": {
    "name": "ipython",
    "version": 3
   },
   "pygments_lexer": "ipython3",
   "nbconvert_exporter": "python",
   "file_extension": ".py"
  },
  "kernelspec": {
   "name": "python3",
   "display_name": "Python 3.8.10 64-bit ('dehli': conda)"
  },
  "interpreter": {
   "hash": "751f88bc81ff633e903dce1c8aeae8029e2f9e80f01621a63afdad018a476671"
  }
 },
 "nbformat": 4,
 "nbformat_minor": 2
}