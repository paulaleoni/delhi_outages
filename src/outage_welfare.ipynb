{
 "cells": [
  {
   "cell_type": "code",
   "execution_count": 1,
   "metadata": {},
   "outputs": [],
   "source": [
    "import tools\n",
    "from pathlib import Path\n",
    "import pandas as pd\n",
    "import numpy as np\n",
    "import matplotlib.pyplot as plt\n"
   ]
  },
  {
   "cell_type": "code",
   "execution_count": 2,
   "metadata": {},
   "outputs": [
    {
     "name": "stderr",
     "output_type": "stream",
     "text": [
      "C:\\Users\\paula\\anaconda3\\envs\\dehli\\lib\\site-packages\\IPython\\core\\interactiveshell.py:3437: DtypeWarning: Columns (5) have mixed types.Specify dtype option on import or set low_memory=False.\n",
      "  exec(code_obj, self.user_global_ns, self.user_ns)\n"
     ]
    }
   ],
   "source": [
    "# import data \n",
    "wd = Path.cwd()\n",
    "data = pd.read_csv(wd.parent/'data'/'data_transformed'/'outage_bunch_est.csv', parse_dates=['start_date', 'end_date'])\n"
   ]
  },
  {
   "cell_type": "code",
   "execution_count": 3,
   "metadata": {},
   "outputs": [],
   "source": [
    "# exchange rate Rupies to USD\n",
    "rp_usd = 0.014\n",
    "\n",
    "# define parameters \n",
    "phi = 50/60 \n",
    "phi120 = 100/60\n"
   ]
  },
  {
   "cell_type": "markdown",
   "metadata": {},
   "source": [
    "$K(\\sigma,\\pi, \\phi) = (\\pi + \\phi)^{\\alpha / (1+\\alpha)} \\sigma (1 + 1/\\alpha)$\n",
    "\n",
    "Calculating counterfactuals: now that we have sigma, we can compute any counterfactual cost we want, but choosing for example different parameter values for $\\pi$ or $\\phi$. The steps are:\n",
    "\n",
    "1- given the sigmas and our chosen parameter values, calculation the implied xs (from xopt)\n",
    "\n",
    "2- then given xopt and the parameters chosen we calculate K."
   ]
  },
  {
   "cell_type": "code",
   "execution_count": 6,
   "metadata": {},
   "outputs": [
    {
     "name": "stderr",
     "output_type": "stream",
     "text": [
      "C:\\Users\\paula\\anaconda3\\envs\\dehli\\lib\\site-packages\\pandas\\core\\frame.py:3607: SettingWithCopyWarning: \n",
      "A value is trying to be set on a copy of a slice from a DataFrame.\n",
      "Try using .loc[row_indexer,col_indexer] = value instead\n",
      "\n",
      "See the caveats in the documentation: https://pandas.pydata.org/pandas-docs/stable/user_guide/indexing.html#returning-a-view-versus-a-copy\n",
      "  self._set_item(key, value)\n"
     ]
    },
    {
     "name": "stdout",
     "output_type": "stream",
     "text": [
      "64890808.408024155\n",
      "doubling pi delta PS: (-8.163495391419669e+38-1.0880652599377983e-78j)\n"
     ]
    }
   ],
   "source": [
    "# calculate K \n",
    "data = data[(data.alpha != 0) & (data.pi!= 0) ]\n",
    "\n",
    "# method 1: use function tools.K\n",
    "#counterfactual cost without a fine (phi=0)\n",
    "data['cost_cf'] = data.apply(lambda row: tools.K(row.duration_cf, sigma = row.sigma, pi = row.pi, phi=0, phi120=0, alpha = row.alpha, N = row.noofcustomersaffected), axis = 1)\n",
    "# what are the right values for phi?\n",
    "data['cost_real'] = data.apply(lambda row: tools.K(row.duration_minutes,sigma = row.sigma, pi = row.pi, phi=phi, phi120=phi120, alpha = row.alpha, N = row.noofcustomersaffected), axis = 1)\n",
    "\n",
    "#this is wrong\n",
    "# take xopt and double pi\n",
    "# phi = 0 ??\n",
    "data['xopt'] = data.apply(lambda row: tools.xopt(row.sigma, row.pi, 0, row.alpha, row.noofcustomersaffected), axis = 1)\n",
    "data['cost_2pi'] = data.apply(lambda row: tools.K(row.xopt, sigma = row.sigma, pi = 2*row.pi, phi=0, phi120=0, alpha = row.alpha, N = row.noofcustomersaffected), axis = 1)\n",
    "\n",
    "# get difference\n",
    "# why do we multiply ba 0.014?\n",
    "print((data.cost_real.sum() - data.cost_cf.sum())*rp_usd) # 0.014 Rupies to USD\n",
    "print('doubling pi delta PS:',(data.cost_real.sum() -data.cost_2pi.sum())*rp_usd)"
   ]
  },
  {
   "cell_type": "code",
   "execution_count": null,
   "metadata": {},
   "outputs": [],
   "source": [
    "#print('doubling pi delta PS:',(data.cost_cf_2pi.sum() -data.cost_cf.sum())*0.014)"
   ]
  },
  {
   "cell_type": "markdown",
   "metadata": {},
   "source": [
    "# Utility of consumer  𝑖  experiencing an outage:\n",
    "\n",
    "$U_i=\\delta T−\\pi (T-x)−(p' + \\chi)x + FINE $\n",
    "\n",
    "T is total time (e.g. 24 hours)\n",
    "\n",
    "Change in consumer surplus:\n",
    "\n",
    "$ \\Delta U_i = (x^{data} - x^{counterfactual})*(\\pi-p')$\n",
    "\n",
    "Since $x^{data} < x^{counterfactual}$ and $𝑝′≥\\pi$, and $\\chi>0$, $\\Delta U_i\\geq0 $\n",
    "\n",
    "\n",
    "Assumptions:\n",
    "\n",
    "1-  \n",
    "\n",
    "2- pollution during an outage is only local\n",
    "\n",
    "Utility of consumer not experiencing an outage:\n",
    "$U_i = \\delta T - p T - \\chi \\sum_{i} x_{-i} $"
   ]
  },
  {
   "cell_type": "code",
   "execution_count": 7,
   "metadata": {},
   "outputs": [],
   "source": [
    "# calculate fine for each outage\n",
    "data['fine_real'] = data.apply(lambda row: tools.V(phi, phi120, row.duration_minutes, N = row.noofcustomersaffected), axis=1)\n",
    "\n",
    "data['fine_cf'] = data.apply(lambda row: tools.V(0, 0, row.duration_cf, N = row.noofcustomersaffected), axis=1)"
   ]
  },
  {
   "cell_type": "code",
   "execution_count": 8,
   "metadata": {},
   "outputs": [
    {
     "name": "stdout",
     "output_type": "stream",
     "text": [
      "total time in minutes: 1137600.0\n",
      "chi: 515\n",
      "median pprime: 122.39999999999999\n",
      "CS with pollution 65011416.01119922\n"
     ]
    }
   ],
   "source": [
    "# total time\n",
    "start = data.start_date.min()\n",
    "end = data.end_date.max()\n",
    "\n",
    "time_diff = end-start\n",
    "T = time_diff.total_seconds() / 60\n",
    "print('total time in minutes:',T)\n",
    "#T = 12*365\n",
    "\n",
    "# health cost\n",
    "#chi = 391000000/data.duration_minutes.sum()\n",
    "chi = 515\n",
    "print('chi:', chi)\n",
    "\n",
    "# at outage level\n",
    "data['pprime'] = data.apply(lambda row: (row.unservedmuduetooutage * 1000000/ row.duration_minutes ) * 21 , axis=1) # is that right?\n",
    "print('median pprime:', data.pprime.median())\n",
    "\n",
    "### change in CS: xbunch and xcounter\n",
    "\n",
    "data['CS_cf'] = data.apply(lambda row: (- row.pi * (T-row.duration_cf) - row.pprime*row.duration_cf), axis = 1)\n",
    "##data['CS_cf_nopol'] = data.apply(lambda row: (- pi * (T-row.duration_cf) - pprime*row.duration_cf ), axis = 1)\n",
    "#data['CS_cf_2pi'] = data.apply(lambda row: (- 2*pi * (T-row.duration_cf) - pprime*row.duration_cf - chi*row.duration_cf, axis = 1)\n",
    "#data['CS_cf_nopol_2pi'] = data.apply(lambda row: (- 2*pi * (T-row.duration_cf) - pprime*row.duration_cf ), axis = 1)\n",
    "\n",
    "data['CS_real'] = data.apply(lambda row: (- row.pi * (T-row.duration_minutes) - row.pprime*row.duration_minutes + row.fine_real), axis = 1)\n",
    "#data['CS_real_nopol'] = data.apply(lambda row: (- pi * (T-row.duration_minutes) - pprime*row.duration_minutes + row.fine_real), axis = 1)\n",
    "\n",
    "\n",
    "# get difference\n",
    "print('CS with pollution', (data.CS_real.sum() - data.CS_cf.sum())*rp_usd) #, 'CS No Pollution', (data.CS_real_nopol.sum() - data.CS_cf_nopol.sum())*0.014,)\n",
    "#print('CS double PI', (data.CS_cf_2pi.sum() - data.CS_cf.sum())*0.014)"
   ]
  },
  {
   "cell_type": "code",
   "execution_count": 9,
   "metadata": {},
   "outputs": [
    {
     "name": "stdout",
     "output_type": "stream",
     "text": [
      "-6413360069.489999\n"
     ]
    }
   ],
   "source": [
    "#back of the envelope calculation (total kwh lost * price difference per kwh)--> corresponds to counterfactual of removing outages completely\n",
    "print(data.unservedmuduetooutage.sum()*10000000* (7-18))"
   ]
  },
  {
   "cell_type": "code",
   "execution_count": 10,
   "metadata": {},
   "outputs": [
    {
     "name": "stdout",
     "output_type": "stream",
     "text": [
      "change in welfare with pollution is: USD 120607.60317506218\n"
     ]
    }
   ],
   "source": [
    "## Total change in Welfare 35357207.35\n",
    "\n",
    "print('change in welfare with pollution is: USD', (data.CS_real.sum() - data.CS_cf.sum() - (data.cost_real.sum() - data.cost_cf.sum()))*rp_usd) #, 'change in welfare without pollution is: USD', (data.CS_real_nopol.sum() - data.CS_cf_nopol.sum() - (data.cost_real.sum() - data.cost_cf.sum()))*0.014)"
   ]
  },
  {
   "cell_type": "code",
   "execution_count": 11,
   "metadata": {},
   "outputs": [
    {
     "name": "stdout",
     "output_type": "stream",
     "text": [
      "-0.45609868829697287\n"
     ]
    }
   ],
   "source": [
    "print((data.duration_minutes.sum() - data.duration_cf.sum())/91230) # were does this number come from?"
   ]
  }
 ],
 "metadata": {
  "interpreter": {
   "hash": "751f88bc81ff633e903dce1c8aeae8029e2f9e80f01621a63afdad018a476671"
  },
  "kernelspec": {
   "display_name": "Python 3.8.10 64-bit ('dehli': conda)",
   "name": "python3"
  },
  "language_info": {
   "codemirror_mode": {
    "name": "ipython",
    "version": 3
   },
   "file_extension": ".py",
   "mimetype": "text/x-python",
   "name": "python",
   "nbconvert_exporter": "python",
   "pygments_lexer": "ipython3",
   "version": "3.8.10"
  },
  "orig_nbformat": 4
 },
 "nbformat": 4,
 "nbformat_minor": 2
}
