{
 "cells": [
  {
   "cell_type": "markdown",
   "source": [
    "# Simulation of model"
   ],
   "metadata": {}
  },
  {
   "cell_type": "code",
   "execution_count": 1,
   "source": [
    "import numpy as np\r\n",
    "import pandas as pd\r\n",
    "from sympy import symbols, solve\r\n",
    "from scipy.optimize import fmin\r\n",
    "import math\r\n",
    "import matplotlib.pyplot as plt\r\n",
    "import seaborn as sns"
   ],
   "outputs": [],
   "metadata": {}
  },
  {
   "cell_type": "markdown",
   "source": [
    "draw n random values for sigma"
   ],
   "metadata": {}
  },
  {
   "cell_type": "code",
   "execution_count": 2,
   "source": [
    "# number of random sigmas\r\n",
    "np.random.seed(123)\r\n",
    "n = 1000\r\n",
    "# mean and sd of lognormal distribution\r\n",
    "m, s = 0,1\r\n",
    "sigma = np.random.lognormal(mean=m, sigma=s, size=n)\r\n",
    "# make to list\r\n",
    "sigma = sigma.tolist()"
   ],
   "outputs": [],
   "metadata": {}
  },
  {
   "cell_type": "markdown",
   "source": [
    "define values for $\\pi$ and $\\phi$"
   ],
   "metadata": {}
  },
  {
   "cell_type": "code",
   "execution_count": 3,
   "source": [
    "pi = 1\r\n",
    "phi = 3"
   ],
   "outputs": [],
   "metadata": {}
  },
  {
   "cell_type": "markdown",
   "source": [
    "## Cost functions\r\n",
    "fixing cost function $C(x,\\sigma) = \\frac{\\sigma}{x}$"
   ],
   "metadata": {}
  },
  {
   "cell_type": "code",
   "execution_count": 4,
   "source": [
    "def C(x, sigma):\r\n",
    "    return sigma/x\r\n",
    "\r\n",
    "\r\n",
    "# plot for fixed sigma\r\n",
    "sigma_fix = 0.5\r\n",
    "x = np.arange(1,360,1)    \r\n",
    "plt.plot(x,C(x,sigma_fix), label = f'$\\sigma = $ {sigma_fix}')\r\n",
    "plt.legend()\r\n",
    "plt.xlabel('x')\r\n",
    "plt.ylabel('C(x)')\r\n"
   ],
   "outputs": [
    {
     "output_type": "execute_result",
     "data": {
      "text/plain": [
       "Text(0, 0.5, 'C(x)')"
      ]
     },
     "metadata": {},
     "execution_count": 4
    },
    {
     "output_type": "display_data",
     "data": {
      "text/plain": [
       "<Figure size 432x288 with 1 Axes>"
      ],
      "image/png": "[encoded data removed]"
     },
     "metadata": {
      "needs_background": "light"
     }
    }
   ],
   "metadata": {}
  },
  {
   "cell_type": "markdown",
   "source": [
    "Cost function $K(x,\\sigma) = (\\pi + \\phi)x + C(x, \\sigma)$ with x, $\\sigma$, $\\pi$ and $\\phi$ as inputs"
   ],
   "metadata": {}
  },
  {
   "cell_type": "code",
   "execution_count": 5,
   "source": [
    "def K(x,sigma, pi=1, phi=0, type='scalar'):\r\n",
    "    if x <= 60:\r\n",
    "        exp = (pi) * x + C(x, sigma)\r\n",
    "    elif x > 60:  \r\n",
    "        exp = (pi + phi) * x + C(x, sigma)  \r\n",
    "    if type == 'scalar':\r\n",
    "        return exp\r\n",
    "    elif type == 'math_exp':\r\n",
    "        return math.exp(exp)\r\n",
    "\r\n",
    "\r\n",
    "# plot K with fixed sigma \r\n",
    "x = np.arange(1,360,1)\r\n",
    "Ks = [K(x,sigma = sigma_fix, pi = 1, phi = phi, type = 'scalar') for x in x]  \r\n",
    "plt.plot(x,Ks, label = f'$\\sigma = $ {sigma_fix}')\r\n",
    "plt.legend()\r\n",
    "plt.xlabel('x')\r\n",
    "plt.ylabel('K(x)')  "
   ],
   "outputs": [
    {
     "output_type": "execute_result",
     "data": {
      "text/plain": [
       "Text(0, 0.5, 'K(x)')"
      ]
     },
     "metadata": {},
     "execution_count": 5
    },
    {
     "output_type": "display_data",
     "data": {
      "text/plain": [
       "<Figure size 432x288 with 1 Axes>"
      ],
      "image/png": "[encoded data removed]"
     },
     "metadata": {
      "needs_background": "light"
     }
    }
   ],
   "metadata": {}
  },
  {
   "cell_type": "markdown",
   "source": [
    "find the minimum x of K() for all sigmas"
   ],
   "metadata": {}
  },
  {
   "cell_type": "code",
   "execution_count": 6,
   "source": [
    "xstar = {}\r\n",
    "for s in sigma:\r\n",
    "    x = fmin(K,x0 = 0.1, args=(s,pi, phi, 'math_exp'), disp=False)\r\n",
    "    if x < 0:\r\n",
    "        raise ValueError('x negative')\r\n",
    "    xstar[s] = x[0]"
   ],
   "outputs": [],
   "metadata": {}
  },
  {
   "cell_type": "markdown",
   "source": [
    "now put all all in a dataframe and calculate the costs for the optimal x's"
   ],
   "metadata": {}
  },
  {
   "cell_type": "code",
   "execution_count": 7,
   "source": [
    "df = pd.DataFrame.from_dict(xstar, orient='index', columns=['xstar'])\r\n",
    "df = df.reset_index()\r\n",
    "df = df.rename(columns={'index':'sigma'})\r\n",
    "\r\n",
    "\r\n",
    "# calculate fixing cost C\r\n",
    "df['fixing_cost'] = df.apply(lambda row: C(row.sigma,row.xstar), axis=1)\r\n",
    "# calculate cost K\r\n",
    "df['K'] = df.apply(lambda row: K(row.xstar, row.sigma), axis=1)\r\n",
    "\r\n",
    "print('mean of x:', np.mean(df.xstar), '; variance:', np.var(df.xstar))\r\n",
    "df.head()"
   ],
   "outputs": [
    {
     "output_type": "stream",
     "name": "stdout",
     "text": [
      "mean of x: 1.110472500000004 ; variance: 0.3461050166241236\n"
     ]
    },
    {
     "output_type": "execute_result",
     "data": {
      "text/plain": [
       "      sigma     xstar  fixing_cost         K\n",
       "0  0.337689  0.581094     1.720797  1.162220\n",
       "1  2.711076  1.646563     0.607347  3.293069\n",
       "2  1.327077  1.151953     0.868038  2.303976\n",
       "3  0.221730  0.470859     2.123571  0.941764\n",
       "4  0.560683  0.748750     1.335426  1.497575"
      ],
      "text/html": [
       "<div>\n",
       "<style scoped>\n",
       "    .dataframe tbody tr th:only-of-type {\n",
       "        vertical-align: middle;\n",
       "    }\n",
       "\n",
       "    .dataframe tbody tr th {\n",
       "        vertical-align: top;\n",
       "    }\n",
       "\n",
       "    .dataframe thead th {\n",
       "        text-align: right;\n",
       "    }\n",
       "</style>\n",
       "<table border=\"1\" class=\"dataframe\">\n",
       "  <thead>\n",
       "    <tr style=\"text-align: right;\">\n",
       "      <th></th>\n",
       "      <th>sigma</th>\n",
       "      <th>xstar</th>\n",
       "      <th>fixing_cost</th>\n",
       "      <th>K</th>\n",
       "    </tr>\n",
       "  </thead>\n",
       "  <tbody>\n",
       "    <tr>\n",
       "      <th>0</th>\n",
       "      <td>0.337689</td>\n",
       "      <td>0.581094</td>\n",
       "      <td>1.720797</td>\n",
       "      <td>1.162220</td>\n",
       "    </tr>\n",
       "    <tr>\n",
       "      <th>1</th>\n",
       "      <td>2.711076</td>\n",
       "      <td>1.646563</td>\n",
       "      <td>0.607347</td>\n",
       "      <td>3.293069</td>\n",
       "    </tr>\n",
       "    <tr>\n",
       "      <th>2</th>\n",
       "      <td>1.327077</td>\n",
       "      <td>1.151953</td>\n",
       "      <td>0.868038</td>\n",
       "      <td>2.303976</td>\n",
       "    </tr>\n",
       "    <tr>\n",
       "      <th>3</th>\n",
       "      <td>0.221730</td>\n",
       "      <td>0.470859</td>\n",
       "      <td>2.123571</td>\n",
       "      <td>0.941764</td>\n",
       "    </tr>\n",
       "    <tr>\n",
       "      <th>4</th>\n",
       "      <td>0.560683</td>\n",
       "      <td>0.748750</td>\n",
       "      <td>1.335426</td>\n",
       "      <td>1.497575</td>\n",
       "    </tr>\n",
       "  </tbody>\n",
       "</table>\n",
       "</div>"
      ]
     },
     "metadata": {},
     "execution_count": 7
    }
   ],
   "metadata": {}
  },
  {
   "cell_type": "markdown",
   "source": [
    "## Plots\r\n",
    "plot the optimal $x(\\sigma)$ and the functions $C(x,\\sigma)$ and $K(x,\\sigma)$"
   ],
   "metadata": {}
  },
  {
   "cell_type": "code",
   "execution_count": 8,
   "source": [
    "# first sort df in ascending order for sigmas\r\n",
    "df_order = df.sort_values('sigma')\r\n",
    "\r\n",
    "fig, axs = plt.subplots(3,1,figsize=(10,10), sharex=True)\r\n",
    "axs[0].plot(df_order.sigma, df_order.xstar, label=f'$\\phi =$ {phi}')\r\n",
    "axs[0].set_title('xstar')\r\n",
    "axs[1].plot(df_order.sigma, df_order.fixing_cost, label=f'$\\phi =$ {phi}')\r\n",
    "axs[1].set_title('fixing cost C')\r\n",
    "axs[2].plot(df_order.sigma, df_order.K, label=f'$\\phi =$ {phi}')\r\n",
    "axs[2].set_title('K')\r\n",
    "axs[2].set_xlabel(r'$\\sigma$', loc='right')\r\n",
    "axs[0].legend()\r\n",
    "axs[1].legend()\r\n",
    "axs[2].legend()\r\n",
    "plt.show()"
   ],
   "outputs": [
    {
     "output_type": "display_data",
     "data": {
      "text/plain": [
       "<Figure size 720x720 with 3 Axes>"
      ],
      "image/png": "[encoded data removed]"
     },
     "metadata": {
      "needs_background": "light"
     }
    }
   ],
   "metadata": {}
  },
  {
   "cell_type": "markdown",
   "source": [
    "density of duration x"
   ],
   "metadata": {}
  },
  {
   "cell_type": "code",
   "execution_count": 9,
   "source": [
    "fig, ax = plt.subplots()\r\n",
    "sns.kdeplot(df.xstar, label = f'$\\phi =$ {phi}', ax=ax) \r\n",
    "plt.xlabel('xstar')\r\n",
    "plt.legend()"
   ],
   "outputs": [
    {
     "output_type": "execute_result",
     "data": {
      "text/plain": [
       "<matplotlib.legend.Legend at 0x1db78243d00>"
      ]
     },
     "metadata": {},
     "execution_count": 9
    },
    {
     "output_type": "display_data",
     "data": {
      "text/plain": [
       "<Figure size 432x288 with 1 Axes>"
      ],
      "image/png": "[encoded data removed]"
     },
     "metadata": {
      "needs_background": "light"
     }
    }
   ],
   "metadata": {}
  },
  {
   "cell_type": "markdown",
   "source": [
    "## Fine Schedule"
   ],
   "metadata": {}
  },
  {
   "cell_type": "code",
   "execution_count": 10,
   "source": [
    "x0, y0 = [0,60], [0,0]\r\n",
    "x1, y1 = [60, 120], [50,100]\r\n",
    "x2, y2 = [120,170], [100,200]\r\n",
    "plt.plot(x0, y0)\r\n",
    "plt.plot(x1,y1,x2, y2)\r\n",
    "plt.xticks([0,60,120])\r\n",
    "plt.yticks([0,50,100,150])\r\n",
    "plt.xlabel('x', loc = 'right')\r\n",
    "plt.ylabel(r'$\\sigma$', loc = 'top')\r\n",
    "plt.show()"
   ],
   "outputs": [
    {
     "output_type": "display_data",
     "data": {
      "text/plain": [
       "<Figure size 432x288 with 1 Axes>"
      ],
      "image/png": "[encoded data removed]"
     },
     "metadata": {
      "needs_background": "light"
     }
    }
   ],
   "metadata": {}
  },
  {
   "cell_type": "markdown",
   "source": [
    "### Fine schedule tradeoff\r\n",
    "$\\pi*60 + C(60,\\sigma) \\geq 2(\\sigma(\\pi + \\phi))^{1/2} = C(\\sigma, \\pi, \\phi)$"
   ],
   "metadata": {}
  },
  {
   "cell_type": "code",
   "execution_count": 11,
   "source": [
    "left = [60*pi + C(s,60) for s in sigma]\r\n",
    "right = [np.sqrt(2*(s*(pi+phi))) for s in sigma]\r\n",
    "tradeoff = pd.DataFrame({'sigma':sigma, 'left':left, 'right':right}).sort_values('sigma')\r\n",
    "\r\n",
    "plt.plot(tradeoff.sigma, tradeoff.left, label = r'$60 \\pi + C(60,\\sigma)$')\r\n",
    "plt.plot(tradeoff.sigma, tradeoff.right, label = r'$C(\\sigma, \\pi, \\phi)$')\r\n",
    "plt.legend()"
   ],
   "outputs": [
    {
     "output_type": "execute_result",
     "data": {
      "text/plain": [
       "<matplotlib.legend.Legend at 0x1db780b6b80>"
      ]
     },
     "metadata": {},
     "execution_count": 11
    },
    {
     "output_type": "display_data",
     "data": {
      "text/plain": [
       "<Figure size 432x288 with 1 Axes>"
      ],
      "image/png": "[encoded data removed]"
     },
     "metadata": {
      "needs_background": "light"
     }
    }
   ],
   "metadata": {}
  },
  {
   "cell_type": "markdown",
   "source": [
    "solve for $\\sigma$ where equality holds"
   ],
   "metadata": {}
  },
  {
   "cell_type": "code",
   "execution_count": 12,
   "source": [
    "x = symbols('s')\r\n",
    "exp = 60*pi + C(s,60) - np.sqrt(2*(s*(pi+phi)))\r\n",
    "sigma_bar = solve(exp)\r\n",
    "if len(sigma_bar) > 0:\r\n",
    "    print(f'optimal $\\sigma$ is {sigma_bar[0]:.2f}')\r\n",
    "else: print('lines do not intersect')"
   ],
   "outputs": [
    {
     "output_type": "stream",
     "name": "stdout",
     "text": [
      "lines do not intersect\n"
     ]
    }
   ],
   "metadata": {}
  }
 ],
 "metadata": {
  "orig_nbformat": 4,
  "language_info": {
   "name": "python",
   "version": "3.8.10",
   "mimetype": "text/x-python",
   "codemirror_mode": {
    "name": "ipython",
    "version": 3
   },
   "pygments_lexer": "ipython3",
   "nbconvert_exporter": "python",
   "file_extension": ".py"
  },
  "kernelspec": {
   "name": "python3",
   "display_name": "Python 3.8.10 64-bit ('dehli': conda)"
  },
  "interpreter": {
   "hash": "751f88bc81ff633e903dce1c8aeae8029e2f9e80f01621a63afdad018a476671"
  }
 },
 "nbformat": 4,
 "nbformat_minor": 2
}