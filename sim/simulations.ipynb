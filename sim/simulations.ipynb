{
 "cells": [
  {
   "cell_type": "markdown",
   "source": [
    "# Simulation of model"
   ],
   "metadata": {}
  },
  {
   "cell_type": "code",
   "execution_count": 1,
   "source": [
    "import numpy as np\r\n",
    "import pandas as pd\r\n",
    "from sympy import symbols, solve\r\n",
    "from scipy.optimize import fmin\r\n",
    "import math\r\n",
    "import matplotlib.pyplot as plt\r\n",
    "import seaborn as sns"
   ],
   "outputs": [],
   "metadata": {}
  },
  {
   "cell_type": "markdown",
   "source": [
    "draw n random values for sigma"
   ],
   "metadata": {}
  },
  {
   "cell_type": "code",
   "execution_count": 2,
   "source": [
    "# number of random sigmas\r\n",
    "np.random.seed(123)\r\n",
    "n = 1000\r\n",
    "m, s = 0 , 1\r\n",
    "sigma = np.random.lognormal(mean=m, sigma=s, size=n)\r\n",
    "# make to list\r\n",
    "sigma = sigma.tolist()"
   ],
   "outputs": [],
   "metadata": {}
  },
  {
   "cell_type": "markdown",
   "source": [
    "define values for $\\pi$ and $\\phi$"
   ],
   "metadata": {}
  },
  {
   "cell_type": "code",
   "execution_count": 3,
   "source": [
    "pi = 1\r\n",
    "phi = 0.5"
   ],
   "outputs": [],
   "metadata": {}
  },
  {
   "cell_type": "markdown",
   "source": [
    "## Cost functions\r\n",
    "fixing cost function C()"
   ],
   "metadata": {}
  },
  {
   "cell_type": "code",
   "execution_count": 4,
   "source": [
    "def C(x, sigma):\r\n",
    "    return sigma/x"
   ],
   "outputs": [],
   "metadata": {}
  },
  {
   "cell_type": "markdown",
   "source": [
    "Cost function K() with $\\sigma$, $\\pi$ and $\\phi$ as parameters"
   ],
   "metadata": {}
  },
  {
   "cell_type": "code",
   "execution_count": 5,
   "source": [
    "def K(x,sigma, pi=1, phi=0):\r\n",
    "    exp = (pi + phi) * x + C(x, sigma)\r\n",
    "    return math.exp(exp)"
   ],
   "outputs": [],
   "metadata": {}
  },
  {
   "cell_type": "markdown",
   "source": [
    "find the minimum x of K() for all sigmas for i) $\\phi = 0$ and 2) $\\phi = \\phi$"
   ],
   "metadata": {}
  },
  {
   "cell_type": "code",
   "execution_count": 6,
   "source": [
    "xstar = {}\r\n",
    "for s in sigma:\r\n",
    "    x = fmin(K,0.1, args=(s,pi, 0), disp=False)\r\n",
    "    xstar[s] = x[0]\r\n",
    "\r\n",
    "# now add parameter phi\r\n",
    "xstar_phi = {}\r\n",
    "for s in sigma:\r\n",
    "    x = fmin(K,0.1, args=(s,pi, phi), disp=False)\r\n",
    "    xstar_phi[s] = x[0]"
   ],
   "outputs": [],
   "metadata": {}
  },
  {
   "cell_type": "markdown",
   "source": [
    "now put all all in a dataframe and calculate the costs for the optimal x's"
   ],
   "metadata": {}
  },
  {
   "cell_type": "code",
   "execution_count": 7,
   "source": [
    "df = pd.DataFrame.from_dict(xstar, orient='index', columns=['xstar'])\r\n",
    "df = df.reset_index()\r\n",
    "df = df.rename(columns={'index':'sigma'})\r\n",
    "\r\n",
    "df_phi = pd.DataFrame.from_dict(xstar_phi, orient='index', columns=['xstar_phi'])\r\n",
    "df_phi = df_phi.reset_index()\r\n",
    "df_phi = df_phi.rename(columns={'index':'sigma'})\r\n",
    "\r\n",
    "# merge to one\r\n",
    "df = df.merge(df_phi)\r\n",
    "\r\n",
    "# calculate fixing cost C\r\n",
    "df['fixing_cost'] = df.apply(lambda row: C(row.sigma,row.xstar), axis=1)\r\n",
    "# calculate cost K\r\n",
    "df['K'] = df.apply(lambda row: K(row.xstar, row.sigma), axis=1)\r\n",
    "\r\n",
    "# calculate fixing cost C\r\n",
    "df['fixing_cost_phi'] = df.apply(lambda row: C(row.sigma,row.xstar_phi), axis=1)\r\n",
    "# calculate cost K\r\n",
    "df['K_phi'] = df.apply(lambda row: K(row.xstar_phi, row.sigma), axis=1)\r\n",
    "\r\n",
    "df.head()"
   ],
   "outputs": [
    {
     "output_type": "execute_result",
     "data": {
      "text/plain": [
       "      sigma     xstar  xstar_phi  fixing_cost          K  fixing_cost_phi  \\\n",
       "0  0.337689  0.581094   0.474453     1.720797   3.197022         1.405001   \n",
       "1  2.711076  1.646563   1.344375     0.607347  26.925366         0.495883   \n",
       "2  1.327077  1.151953   0.940625     0.868038  10.013921         0.708795   \n",
       "3  0.221730  0.470859   0.384453     2.123571   2.564502         1.733879   \n",
       "4  0.560683  0.748750   0.611406     1.335426   4.470834         1.090468   \n",
       "\n",
       "       K_phi  \n",
       "0   3.274602  \n",
       "1  28.817466  \n",
       "2  10.501001  \n",
       "3   2.614818  \n",
       "4   4.610997  "
      ],
      "text/html": [
       "<div>\n",
       "<style scoped>\n",
       "    .dataframe tbody tr th:only-of-type {\n",
       "        vertical-align: middle;\n",
       "    }\n",
       "\n",
       "    .dataframe tbody tr th {\n",
       "        vertical-align: top;\n",
       "    }\n",
       "\n",
       "    .dataframe thead th {\n",
       "        text-align: right;\n",
       "    }\n",
       "</style>\n",
       "<table border=\"1\" class=\"dataframe\">\n",
       "  <thead>\n",
       "    <tr style=\"text-align: right;\">\n",
       "      <th></th>\n",
       "      <th>sigma</th>\n",
       "      <th>xstar</th>\n",
       "      <th>xstar_phi</th>\n",
       "      <th>fixing_cost</th>\n",
       "      <th>K</th>\n",
       "      <th>fixing_cost_phi</th>\n",
       "      <th>K_phi</th>\n",
       "    </tr>\n",
       "  </thead>\n",
       "  <tbody>\n",
       "    <tr>\n",
       "      <th>0</th>\n",
       "      <td>0.337689</td>\n",
       "      <td>0.581094</td>\n",
       "      <td>0.474453</td>\n",
       "      <td>1.720797</td>\n",
       "      <td>3.197022</td>\n",
       "      <td>1.405001</td>\n",
       "      <td>3.274602</td>\n",
       "    </tr>\n",
       "    <tr>\n",
       "      <th>1</th>\n",
       "      <td>2.711076</td>\n",
       "      <td>1.646563</td>\n",
       "      <td>1.344375</td>\n",
       "      <td>0.607347</td>\n",
       "      <td>26.925366</td>\n",
       "      <td>0.495883</td>\n",
       "      <td>28.817466</td>\n",
       "    </tr>\n",
       "    <tr>\n",
       "      <th>2</th>\n",
       "      <td>1.327077</td>\n",
       "      <td>1.151953</td>\n",
       "      <td>0.940625</td>\n",
       "      <td>0.868038</td>\n",
       "      <td>10.013921</td>\n",
       "      <td>0.708795</td>\n",
       "      <td>10.501001</td>\n",
       "    </tr>\n",
       "    <tr>\n",
       "      <th>3</th>\n",
       "      <td>0.221730</td>\n",
       "      <td>0.470859</td>\n",
       "      <td>0.384453</td>\n",
       "      <td>2.123571</td>\n",
       "      <td>2.564502</td>\n",
       "      <td>1.733879</td>\n",
       "      <td>2.614818</td>\n",
       "    </tr>\n",
       "    <tr>\n",
       "      <th>4</th>\n",
       "      <td>0.560683</td>\n",
       "      <td>0.748750</td>\n",
       "      <td>0.611406</td>\n",
       "      <td>1.335426</td>\n",
       "      <td>4.470834</td>\n",
       "      <td>1.090468</td>\n",
       "      <td>4.610997</td>\n",
       "    </tr>\n",
       "  </tbody>\n",
       "</table>\n",
       "</div>"
      ]
     },
     "metadata": {},
     "execution_count": 7
    }
   ],
   "metadata": {}
  },
  {
   "cell_type": "markdown",
   "source": [
    "## Plots\r\n",
    "plot the optimal $x(\\sigma)$ and the functions $C(x,\\sigma)$ and $K(x,\\sigma)$"
   ],
   "metadata": {}
  },
  {
   "cell_type": "code",
   "execution_count": 8,
   "source": [
    "fig, axs = plt.subplots(3,2,figsize=(12,8), sharex=True)\r\n",
    "axs[0,0].plot(df.sigma, df.xstar, 'o')\r\n",
    "axs[0,0].set_title('xstar')\r\n",
    "axs[1,0].plot(df.sigma, df.fixing_cost, 'o')\r\n",
    "axs[1,0].set_title('fixing cost C')\r\n",
    "axs[2,0].plot(df.sigma, df.K, 'o')\r\n",
    "axs[2,0].set_title('K')\r\n",
    "# phi\r\n",
    "axs[0,1].plot(df.sigma, df.xstar_phi, 'o')\r\n",
    "axs[0,1].set_title(f'xstar with $\\phi =$ {phi}')\r\n",
    "axs[1,1].plot(df.sigma, df.fixing_cost_phi, 'o')\r\n",
    "axs[1,1].set_title(f'fixing cost C with $\\phi =$ {phi}')\r\n",
    "axs[2,1].plot(df.sigma, df.K_phi, 'o')\r\n",
    "axs[2,1].set_title(f'K with $\\phi =$ {phi}')\r\n",
    "plt.show()"
   ],
   "outputs": [
    {
     "output_type": "display_data",
     "data": {
      "text/plain": [
       "<Figure size 864x576 with 6 Axes>"
      ],
      "image/png": "[encoded data removed]"
     },
     "metadata": {
      "needs_background": "light"
     }
    }
   ],
   "metadata": {}
  },
  {
   "cell_type": "markdown",
   "source": [
    "density of duration x"
   ],
   "metadata": {}
  },
  {
   "cell_type": "code",
   "execution_count": 9,
   "source": [
    "fig, ax = plt.subplots()\r\n",
    "sns.kdeplot(df.xstar, label = '$\\phi = 0$', ax=ax) \r\n",
    "sns.kdeplot(df.xstar_phi, label = f'$\\phi = ${phi}', ax=ax)\r\n",
    "plt.xlabel('xstar')\r\n",
    "plt.legend()"
   ],
   "outputs": [
    {
     "output_type": "execute_result",
     "data": {
      "text/plain": [
       "<matplotlib.legend.Legend at 0x1fa889e38e0>"
      ]
     },
     "metadata": {},
     "execution_count": 9
    },
    {
     "output_type": "display_data",
     "data": {
      "text/plain": [
       "<Figure size 432x288 with 1 Axes>"
      ],
      "image/png": "[encoded data removed]"
     },
     "metadata": {
      "needs_background": "light"
     }
    }
   ],
   "metadata": {}
  },
  {
   "cell_type": "markdown",
   "source": [
    "## Fine Schedule"
   ],
   "metadata": {}
  },
  {
   "cell_type": "code",
   "execution_count": 10,
   "source": [
    "x0, y0 = [0,60], [0,0]\r\n",
    "x1, y1 = [60, 120], [50,100]\r\n",
    "x2, y2 = [120,170], [100,200]\r\n",
    "plt.plot(x0, y0)\r\n",
    "plt.plot(x1,y1,x2, y2)\r\n",
    "plt.xticks([0,60,120])\r\n",
    "plt.yticks([0,50,100,150])\r\n",
    "plt.show()"
   ],
   "outputs": [
    {
     "output_type": "display_data",
     "data": {
      "text/plain": [
       "<Figure size 432x288 with 1 Axes>"
      ],
      "image/png": "[encoded data removed]"
     },
     "metadata": {
      "needs_background": "light"
     }
    }
   ],
   "metadata": {}
  },
  {
   "cell_type": "markdown",
   "source": [
    "### Fine schedule tradeoff\r\n",
    "$\\pi*60 + C(60,\\sigma) \\geq 2(\\sigma(\\pi + \\phi))^{1/2}$"
   ],
   "metadata": {}
  },
  {
   "cell_type": "code",
   "execution_count": 11,
   "source": [
    "left = [60*pi + C(s,60) for s in sigma]\r\n",
    "right = [np.sqrt(2*(s*(pi+phi))) for s in sigma]\r\n",
    "\r\n",
    "plt.plot(sigma, left, 'o', label = 'left')\r\n",
    "plt.plot(sigma, right, 'o', label = 'right')\r\n",
    "plt.legend()"
   ],
   "outputs": [
    {
     "output_type": "execute_result",
     "data": {
      "text/plain": [
       "<matplotlib.legend.Legend at 0x1fa813b1670>"
      ]
     },
     "metadata": {},
     "execution_count": 11
    },
    {
     "output_type": "display_data",
     "data": {
      "text/plain": [
       "<Figure size 432x288 with 1 Axes>"
      ],
      "image/png": "[encoded data removed]"
     },
     "metadata": {
      "needs_background": "light"
     }
    }
   ],
   "metadata": {}
  },
  {
   "cell_type": "markdown",
   "source": [
    "solve for $\\sigma$ where equality holds"
   ],
   "metadata": {}
  },
  {
   "cell_type": "code",
   "execution_count": 12,
   "source": [
    "x = symbols('s')\r\n",
    "exp = 60*pi + C(s,60) - np.sqrt(2*(s*(pi+phi)))\r\n",
    "sigma_bar = solve(exp)\r\n",
    "if len(sigma_bar) > 0:\r\n",
    "    print(f'optimal $\\sigma$ is {sigma_bar[0]:.2f}')"
   ],
   "outputs": [],
   "metadata": {}
  }
 ],
 "metadata": {
  "orig_nbformat": 4,
  "language_info": {
   "name": "python",
   "version": "3.8.10",
   "mimetype": "text/x-python",
   "codemirror_mode": {
    "name": "ipython",
    "version": 3
   },
   "pygments_lexer": "ipython3",
   "nbconvert_exporter": "python",
   "file_extension": ".py"
  },
  "kernelspec": {
   "name": "python3",
   "display_name": "Python 3.8.10 64-bit ('dehli': conda)"
  },
  "interpreter": {
   "hash": "751f88bc81ff633e903dce1c8aeae8029e2f9e80f01621a63afdad018a476671"
  }
 },
 "nbformat": 4,
 "nbformat_minor": 2
}